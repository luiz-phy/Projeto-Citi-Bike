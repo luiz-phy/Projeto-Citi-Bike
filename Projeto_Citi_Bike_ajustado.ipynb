{
  "cells": [
    {
      "cell_type": "markdown",
      "metadata": {
        "id": "ktTIEhRarHCP"
      },
      "source": [
        "## O nosso conjunto de dados é descrito da seguinte forma:\n",
        "\n",
        "\n",
        "|Atributo                                           |   Descrição   |\n",
        "|---------------------------------------------------|:-------------:|\n",
        "| Trip Duration                                     |   Duração da viagem em segundos |\n",
        "| Start Time                                        |   Início da viagem |\n",
        "| Stop Time                                         |   Fim da Viagem   |\n",
        "| Start Station ID                                  |   Identificado da estação origem   |\n",
        "| Start Station Name                                |   Nome da estação onde a viagem iniciou|\n",
        "| Start Station Latitude / Start Station Longitude  |   Localização onde a viagem iniciou|\n",
        "| End station id                                    |   Identificado da estação destino   |\n",
        "| End Station Name                                  |   Nome da estação onde a viagem terminou|\n",
        "| End Station Latitude / End Station Longitude      |   Localização onde a viagem terminou   |\n",
        "| Bike ID                                           |   Identificado da bicicleta  |\n",
        "| User Type                                         |   Customer = passe de 24 horas ou 3 dias; Subscriber = Membro Anual |\n",
        "| Birth Year                                        |   Ano de nascimento|\n",
        "| Gender                                            |   0 = desconhecido; 1 = masculino; 2 = feminino |"
      ]
    },
    {
      "cell_type": "code",
      "execution_count": 1,
      "metadata": {
        "id": "jdVaLfx3hWxh"
      },
      "outputs": [],
      "source": [
        "# importanto as bibliotecas\n",
        "\n",
        "import pandas as pd\n",
        "import matplotlib.pyplot as plt\n",
        "import seaborn as sns\n",
        "import folium\n",
        "import matplotlib.pyplot as plt\n",
        "import numpy as np\n",
        "\n",
        "pd.set_option('display.max_columns', 100)   # Mostra todas as colunas do dataset\n"
      ]
    },
    {
      "cell_type": "code",
      "source": [
        "from google.colab import drive\n",
        "drive.mount('/content/drive')"
      ],
      "metadata": {
        "colab": {
          "base_uri": "https://localhost:8080/"
        },
        "id": "TonapSXY_SSY",
        "outputId": "ae2277a6-1c4e-45c5-e977-fe78d773533d"
      },
      "execution_count": 2,
      "outputs": [
        {
          "output_type": "stream",
          "name": "stdout",
          "text": [
            "Mounted at /content/drive\n"
          ]
        }
      ]
    },
    {
      "cell_type": "code",
      "execution_count": 3,
      "metadata": {
        "id": "ctt8xfV_jrBm"
      },
      "outputs": [],
      "source": [
        "# importando o dataset\n",
        "\n",
        "df = pd.read_parquet('/content/drive/MyDrive/Projeto UFRJ-Analytica/citibike2016-2019.parquet')"
      ]
    },
    {
      "cell_type": "code",
      "execution_count": 4,
      "metadata": {
        "colab": {
          "base_uri": "https://localhost:8080/",
          "height": 496
        },
        "id": "Q_-aiajtjq7u",
        "outputId": "089fe1c5-b453-4156-93ea-57d22ecd907a"
      },
      "outputs": [
        {
          "output_type": "execute_result",
          "data": {
            "text/plain": [
              "   tripduration           starttime            stoptime  start station id  \\\n",
              "0         283.0  3/31/2016 09:15:31  3/31/2016 09:20:14             382.0   \n",
              "1         392.0   9/5/2016 16:43:30   9/5/2016 16:50:03            3109.0   \n",
              "2         705.0  4/17/2016 13:16:39  4/17/2016 13:28:25             354.0   \n",
              "3         535.0   5/2/2016 17:59:46   5/2/2016 18:08:42             517.0   \n",
              "4         286.0   2/6/2016 18:27:29   2/6/2016 18:32:16             490.0   \n",
              "\n",
              "         start station name  start station latitude  start station longitude  \\\n",
              "0   University Pl & E 14 St               40.734927               -73.992005   \n",
              "1  Banker St & Meserole Ave               40.726060               -73.956210   \n",
              "2   Emerson Pl & Myrtle Ave               40.693631               -73.962236   \n",
              "3     Pershing Square South               40.751581               -73.977910   \n",
              "4           8 Ave & W 33 St               40.751551               -73.993934   \n",
              "\n",
              "   end station id              end station name  end station latitude  \\\n",
              "0           491.0          E 24 St & Park Ave S             40.740964   \n",
              "1          2002.0  Wythe Ave & Metropolitan Ave             40.716887   \n",
              "2           242.0    Carlton Ave & Flushing Ave             40.697787   \n",
              "3           357.0            E 11 St & Broadway             40.732618   \n",
              "4           446.0               W 24 St & 7 Ave             40.744876   \n",
              "\n",
              "   end station longitude   bikeid    usertype  birth year  gender  \\\n",
              "0             -73.986022  21566.0  Subscriber     -1992.0     1.0   \n",
              "1             -73.963198  14670.0  Subscriber     -1991.0     2.0   \n",
              "2             -73.973736  21494.0  Subscriber      1979.0     1.0   \n",
              "3             -73.991580  22901.0  Subscriber      1984.0     1.0   \n",
              "4             -73.995299  21254.0  Subscriber      1981.0     1.0   \n",
              "\n",
              "   Trip Duration Start Time Stop Time  Start Station ID Start Station Name  \\\n",
              "0            NaN       None      None               NaN               None   \n",
              "1            NaN       None      None               NaN               None   \n",
              "2            NaN       None      None               NaN               None   \n",
              "3            NaN       None      None               NaN               None   \n",
              "4            NaN       None      None               NaN               None   \n",
              "\n",
              "   Start Station Latitude  Start Station Longitude  End Station ID  \\\n",
              "0                     NaN                      NaN             NaN   \n",
              "1                     NaN                      NaN             NaN   \n",
              "2                     NaN                      NaN             NaN   \n",
              "3                     NaN                      NaN             NaN   \n",
              "4                     NaN                      NaN             NaN   \n",
              "\n",
              "  End Station Name  End Station Latitude  End Station Longitude  Bike ID  \\\n",
              "0             None                   NaN                    NaN      NaN   \n",
              "1             None                   NaN                    NaN      NaN   \n",
              "2             None                   NaN                    NaN      NaN   \n",
              "3             None                   NaN                    NaN      NaN   \n",
              "4             None                   NaN                    NaN      NaN   \n",
              "\n",
              "  User Type  Birth Year  Gender  \n",
              "0      None         NaN     NaN  \n",
              "1      None         NaN     NaN  \n",
              "2      None         NaN     NaN  \n",
              "3      None         NaN     NaN  \n",
              "4      None         NaN     NaN  "
            ],
            "text/html": [
              "\n",
              "\n",
              "  <div id=\"df-838c11ce-3627-4686-a4c1-08181e11efe0\">\n",
              "    <div class=\"colab-df-container\">\n",
              "      <div>\n",
              "<style scoped>\n",
              "    .dataframe tbody tr th:only-of-type {\n",
              "        vertical-align: middle;\n",
              "    }\n",
              "\n",
              "    .dataframe tbody tr th {\n",
              "        vertical-align: top;\n",
              "    }\n",
              "\n",
              "    .dataframe thead th {\n",
              "        text-align: right;\n",
              "    }\n",
              "</style>\n",
              "<table border=\"1\" class=\"dataframe\">\n",
              "  <thead>\n",
              "    <tr style=\"text-align: right;\">\n",
              "      <th></th>\n",
              "      <th>tripduration</th>\n",
              "      <th>starttime</th>\n",
              "      <th>stoptime</th>\n",
              "      <th>start station id</th>\n",
              "      <th>start station name</th>\n",
              "      <th>start station latitude</th>\n",
              "      <th>start station longitude</th>\n",
              "      <th>end station id</th>\n",
              "      <th>end station name</th>\n",
              "      <th>end station latitude</th>\n",
              "      <th>end station longitude</th>\n",
              "      <th>bikeid</th>\n",
              "      <th>usertype</th>\n",
              "      <th>birth year</th>\n",
              "      <th>gender</th>\n",
              "      <th>Trip Duration</th>\n",
              "      <th>Start Time</th>\n",
              "      <th>Stop Time</th>\n",
              "      <th>Start Station ID</th>\n",
              "      <th>Start Station Name</th>\n",
              "      <th>Start Station Latitude</th>\n",
              "      <th>Start Station Longitude</th>\n",
              "      <th>End Station ID</th>\n",
              "      <th>End Station Name</th>\n",
              "      <th>End Station Latitude</th>\n",
              "      <th>End Station Longitude</th>\n",
              "      <th>Bike ID</th>\n",
              "      <th>User Type</th>\n",
              "      <th>Birth Year</th>\n",
              "      <th>Gender</th>\n",
              "    </tr>\n",
              "  </thead>\n",
              "  <tbody>\n",
              "    <tr>\n",
              "      <th>0</th>\n",
              "      <td>283.0</td>\n",
              "      <td>3/31/2016 09:15:31</td>\n",
              "      <td>3/31/2016 09:20:14</td>\n",
              "      <td>382.0</td>\n",
              "      <td>University Pl &amp; E 14 St</td>\n",
              "      <td>40.734927</td>\n",
              "      <td>-73.992005</td>\n",
              "      <td>491.0</td>\n",
              "      <td>E 24 St &amp; Park Ave S</td>\n",
              "      <td>40.740964</td>\n",
              "      <td>-73.986022</td>\n",
              "      <td>21566.0</td>\n",
              "      <td>Subscriber</td>\n",
              "      <td>-1992.0</td>\n",
              "      <td>1.0</td>\n",
              "      <td>NaN</td>\n",
              "      <td>None</td>\n",
              "      <td>None</td>\n",
              "      <td>NaN</td>\n",
              "      <td>None</td>\n",
              "      <td>NaN</td>\n",
              "      <td>NaN</td>\n",
              "      <td>NaN</td>\n",
              "      <td>None</td>\n",
              "      <td>NaN</td>\n",
              "      <td>NaN</td>\n",
              "      <td>NaN</td>\n",
              "      <td>None</td>\n",
              "      <td>NaN</td>\n",
              "      <td>NaN</td>\n",
              "    </tr>\n",
              "    <tr>\n",
              "      <th>1</th>\n",
              "      <td>392.0</td>\n",
              "      <td>9/5/2016 16:43:30</td>\n",
              "      <td>9/5/2016 16:50:03</td>\n",
              "      <td>3109.0</td>\n",
              "      <td>Banker St &amp; Meserole Ave</td>\n",
              "      <td>40.726060</td>\n",
              "      <td>-73.956210</td>\n",
              "      <td>2002.0</td>\n",
              "      <td>Wythe Ave &amp; Metropolitan Ave</td>\n",
              "      <td>40.716887</td>\n",
              "      <td>-73.963198</td>\n",
              "      <td>14670.0</td>\n",
              "      <td>Subscriber</td>\n",
              "      <td>-1991.0</td>\n",
              "      <td>2.0</td>\n",
              "      <td>NaN</td>\n",
              "      <td>None</td>\n",
              "      <td>None</td>\n",
              "      <td>NaN</td>\n",
              "      <td>None</td>\n",
              "      <td>NaN</td>\n",
              "      <td>NaN</td>\n",
              "      <td>NaN</td>\n",
              "      <td>None</td>\n",
              "      <td>NaN</td>\n",
              "      <td>NaN</td>\n",
              "      <td>NaN</td>\n",
              "      <td>None</td>\n",
              "      <td>NaN</td>\n",
              "      <td>NaN</td>\n",
              "    </tr>\n",
              "    <tr>\n",
              "      <th>2</th>\n",
              "      <td>705.0</td>\n",
              "      <td>4/17/2016 13:16:39</td>\n",
              "      <td>4/17/2016 13:28:25</td>\n",
              "      <td>354.0</td>\n",
              "      <td>Emerson Pl &amp; Myrtle Ave</td>\n",
              "      <td>40.693631</td>\n",
              "      <td>-73.962236</td>\n",
              "      <td>242.0</td>\n",
              "      <td>Carlton Ave &amp; Flushing Ave</td>\n",
              "      <td>40.697787</td>\n",
              "      <td>-73.973736</td>\n",
              "      <td>21494.0</td>\n",
              "      <td>Subscriber</td>\n",
              "      <td>1979.0</td>\n",
              "      <td>1.0</td>\n",
              "      <td>NaN</td>\n",
              "      <td>None</td>\n",
              "      <td>None</td>\n",
              "      <td>NaN</td>\n",
              "      <td>None</td>\n",
              "      <td>NaN</td>\n",
              "      <td>NaN</td>\n",
              "      <td>NaN</td>\n",
              "      <td>None</td>\n",
              "      <td>NaN</td>\n",
              "      <td>NaN</td>\n",
              "      <td>NaN</td>\n",
              "      <td>None</td>\n",
              "      <td>NaN</td>\n",
              "      <td>NaN</td>\n",
              "    </tr>\n",
              "    <tr>\n",
              "      <th>3</th>\n",
              "      <td>535.0</td>\n",
              "      <td>5/2/2016 17:59:46</td>\n",
              "      <td>5/2/2016 18:08:42</td>\n",
              "      <td>517.0</td>\n",
              "      <td>Pershing Square South</td>\n",
              "      <td>40.751581</td>\n",
              "      <td>-73.977910</td>\n",
              "      <td>357.0</td>\n",
              "      <td>E 11 St &amp; Broadway</td>\n",
              "      <td>40.732618</td>\n",
              "      <td>-73.991580</td>\n",
              "      <td>22901.0</td>\n",
              "      <td>Subscriber</td>\n",
              "      <td>1984.0</td>\n",
              "      <td>1.0</td>\n",
              "      <td>NaN</td>\n",
              "      <td>None</td>\n",
              "      <td>None</td>\n",
              "      <td>NaN</td>\n",
              "      <td>None</td>\n",
              "      <td>NaN</td>\n",
              "      <td>NaN</td>\n",
              "      <td>NaN</td>\n",
              "      <td>None</td>\n",
              "      <td>NaN</td>\n",
              "      <td>NaN</td>\n",
              "      <td>NaN</td>\n",
              "      <td>None</td>\n",
              "      <td>NaN</td>\n",
              "      <td>NaN</td>\n",
              "    </tr>\n",
              "    <tr>\n",
              "      <th>4</th>\n",
              "      <td>286.0</td>\n",
              "      <td>2/6/2016 18:27:29</td>\n",
              "      <td>2/6/2016 18:32:16</td>\n",
              "      <td>490.0</td>\n",
              "      <td>8 Ave &amp; W 33 St</td>\n",
              "      <td>40.751551</td>\n",
              "      <td>-73.993934</td>\n",
              "      <td>446.0</td>\n",
              "      <td>W 24 St &amp; 7 Ave</td>\n",
              "      <td>40.744876</td>\n",
              "      <td>-73.995299</td>\n",
              "      <td>21254.0</td>\n",
              "      <td>Subscriber</td>\n",
              "      <td>1981.0</td>\n",
              "      <td>1.0</td>\n",
              "      <td>NaN</td>\n",
              "      <td>None</td>\n",
              "      <td>None</td>\n",
              "      <td>NaN</td>\n",
              "      <td>None</td>\n",
              "      <td>NaN</td>\n",
              "      <td>NaN</td>\n",
              "      <td>NaN</td>\n",
              "      <td>None</td>\n",
              "      <td>NaN</td>\n",
              "      <td>NaN</td>\n",
              "      <td>NaN</td>\n",
              "      <td>None</td>\n",
              "      <td>NaN</td>\n",
              "      <td>NaN</td>\n",
              "    </tr>\n",
              "  </tbody>\n",
              "</table>\n",
              "</div>\n",
              "      <button class=\"colab-df-convert\" onclick=\"convertToInteractive('df-838c11ce-3627-4686-a4c1-08181e11efe0')\"\n",
              "              title=\"Convert this dataframe to an interactive table.\"\n",
              "              style=\"display:none;\">\n",
              "\n",
              "  <svg xmlns=\"http://www.w3.org/2000/svg\" height=\"24px\"viewBox=\"0 0 24 24\"\n",
              "       width=\"24px\">\n",
              "    <path d=\"M0 0h24v24H0V0z\" fill=\"none\"/>\n",
              "    <path d=\"M18.56 5.44l.94 2.06.94-2.06 2.06-.94-2.06-.94-.94-2.06-.94 2.06-2.06.94zm-11 1L8.5 8.5l.94-2.06 2.06-.94-2.06-.94L8.5 2.5l-.94 2.06-2.06.94zm10 10l.94 2.06.94-2.06 2.06-.94-2.06-.94-.94-2.06-.94 2.06-2.06.94z\"/><path d=\"M17.41 7.96l-1.37-1.37c-.4-.4-.92-.59-1.43-.59-.52 0-1.04.2-1.43.59L10.3 9.45l-7.72 7.72c-.78.78-.78 2.05 0 2.83L4 21.41c.39.39.9.59 1.41.59.51 0 1.02-.2 1.41-.59l7.78-7.78 2.81-2.81c.8-.78.8-2.07 0-2.86zM5.41 20L4 18.59l7.72-7.72 1.47 1.35L5.41 20z\"/>\n",
              "  </svg>\n",
              "      </button>\n",
              "\n",
              "\n",
              "\n",
              "    <div id=\"df-c6047a06-f80f-4ccb-998a-c7f27f7c52f6\">\n",
              "      <button class=\"colab-df-quickchart\" onclick=\"quickchart('df-c6047a06-f80f-4ccb-998a-c7f27f7c52f6')\"\n",
              "              title=\"Suggest charts.\"\n",
              "              style=\"display:none;\">\n",
              "\n",
              "<svg xmlns=\"http://www.w3.org/2000/svg\" height=\"24px\"viewBox=\"0 0 24 24\"\n",
              "     width=\"24px\">\n",
              "    <g>\n",
              "        <path d=\"M19 3H5c-1.1 0-2 .9-2 2v14c0 1.1.9 2 2 2h14c1.1 0 2-.9 2-2V5c0-1.1-.9-2-2-2zM9 17H7v-7h2v7zm4 0h-2V7h2v10zm4 0h-2v-4h2v4z\"/>\n",
              "    </g>\n",
              "</svg>\n",
              "      </button>\n",
              "    </div>\n",
              "\n",
              "<style>\n",
              "  .colab-df-quickchart {\n",
              "    background-color: #E8F0FE;\n",
              "    border: none;\n",
              "    border-radius: 50%;\n",
              "    cursor: pointer;\n",
              "    display: none;\n",
              "    fill: #1967D2;\n",
              "    height: 32px;\n",
              "    padding: 0 0 0 0;\n",
              "    width: 32px;\n",
              "  }\n",
              "\n",
              "  .colab-df-quickchart:hover {\n",
              "    background-color: #E2EBFA;\n",
              "    box-shadow: 0px 1px 2px rgba(60, 64, 67, 0.3), 0px 1px 3px 1px rgba(60, 64, 67, 0.15);\n",
              "    fill: #174EA6;\n",
              "  }\n",
              "\n",
              "  [theme=dark] .colab-df-quickchart {\n",
              "    background-color: #3B4455;\n",
              "    fill: #D2E3FC;\n",
              "  }\n",
              "\n",
              "  [theme=dark] .colab-df-quickchart:hover {\n",
              "    background-color: #434B5C;\n",
              "    box-shadow: 0px 1px 3px 1px rgba(0, 0, 0, 0.15);\n",
              "    filter: drop-shadow(0px 1px 2px rgba(0, 0, 0, 0.3));\n",
              "    fill: #FFFFFF;\n",
              "  }\n",
              "</style>\n",
              "\n",
              "    <script>\n",
              "      async function quickchart(key) {\n",
              "        const containerElement = document.querySelector('#' + key);\n",
              "        const charts = await google.colab.kernel.invokeFunction(\n",
              "            'suggestCharts', [key], {});\n",
              "      }\n",
              "    </script>\n",
              "\n",
              "\n",
              "      <script>\n",
              "\n",
              "function displayQuickchartButton(domScope) {\n",
              "  let quickchartButtonEl =\n",
              "    domScope.querySelector('#df-c6047a06-f80f-4ccb-998a-c7f27f7c52f6 button.colab-df-quickchart');\n",
              "  quickchartButtonEl.style.display =\n",
              "    google.colab.kernel.accessAllowed ? 'block' : 'none';\n",
              "}\n",
              "\n",
              "        displayQuickchartButton(document);\n",
              "      </script>\n",
              "      <style>\n",
              "    .colab-df-container {\n",
              "      display:flex;\n",
              "      flex-wrap:wrap;\n",
              "      gap: 12px;\n",
              "    }\n",
              "\n",
              "    .colab-df-convert {\n",
              "      background-color: #E8F0FE;\n",
              "      border: none;\n",
              "      border-radius: 50%;\n",
              "      cursor: pointer;\n",
              "      display: none;\n",
              "      fill: #1967D2;\n",
              "      height: 32px;\n",
              "      padding: 0 0 0 0;\n",
              "      width: 32px;\n",
              "    }\n",
              "\n",
              "    .colab-df-convert:hover {\n",
              "      background-color: #E2EBFA;\n",
              "      box-shadow: 0px 1px 2px rgba(60, 64, 67, 0.3), 0px 1px 3px 1px rgba(60, 64, 67, 0.15);\n",
              "      fill: #174EA6;\n",
              "    }\n",
              "\n",
              "    [theme=dark] .colab-df-convert {\n",
              "      background-color: #3B4455;\n",
              "      fill: #D2E3FC;\n",
              "    }\n",
              "\n",
              "    [theme=dark] .colab-df-convert:hover {\n",
              "      background-color: #434B5C;\n",
              "      box-shadow: 0px 1px 3px 1px rgba(0, 0, 0, 0.15);\n",
              "      filter: drop-shadow(0px 1px 2px rgba(0, 0, 0, 0.3));\n",
              "      fill: #FFFFFF;\n",
              "    }\n",
              "  </style>\n",
              "\n",
              "      <script>\n",
              "        const buttonEl =\n",
              "          document.querySelector('#df-838c11ce-3627-4686-a4c1-08181e11efe0 button.colab-df-convert');\n",
              "        buttonEl.style.display =\n",
              "          google.colab.kernel.accessAllowed ? 'block' : 'none';\n",
              "\n",
              "        async function convertToInteractive(key) {\n",
              "          const element = document.querySelector('#df-838c11ce-3627-4686-a4c1-08181e11efe0');\n",
              "          const dataTable =\n",
              "            await google.colab.kernel.invokeFunction('convertToInteractive',\n",
              "                                                     [key], {});\n",
              "          if (!dataTable) return;\n",
              "\n",
              "          const docLinkHtml = 'Like what you see? Visit the ' +\n",
              "            '<a target=\"_blank\" href=https://colab.research.google.com/notebooks/data_table.ipynb>data table notebook</a>'\n",
              "            + ' to learn more about interactive tables.';\n",
              "          element.innerHTML = '';\n",
              "          dataTable['output_type'] = 'display_data';\n",
              "          await google.colab.output.renderOutput(dataTable, element);\n",
              "          const docLink = document.createElement('div');\n",
              "          docLink.innerHTML = docLinkHtml;\n",
              "          element.appendChild(docLink);\n",
              "        }\n",
              "      </script>\n",
              "    </div>\n",
              "  </div>\n"
            ]
          },
          "metadata": {},
          "execution_count": 4
        }
      ],
      "source": [
        "# fazendo uma visualização inicial dos dados\n",
        "\n",
        "df.head(5)"
      ]
    },
    {
      "cell_type": "markdown",
      "metadata": {
        "id": "z0YRjJTV_DQy"
      },
      "source": [
        "# Tratamento e limpeza dos dados"
      ]
    },
    {
      "cell_type": "code",
      "execution_count": 5,
      "metadata": {
        "id": "FkM07TZS_DQ0"
      },
      "outputs": [],
      "source": [
        "# removendo as colunas duplicadas\n",
        "\n",
        "df = df[['tripduration', 'starttime', 'stoptime', 'start station id',\n",
        "       'start station name', 'start station latitude',\n",
        "       'start station longitude', 'end station id', 'end station name',\n",
        "       'end station latitude', 'end station longitude', 'bikeid', 'usertype',\n",
        "       'birth year', 'gender']].copy()"
      ]
    },
    {
      "cell_type": "code",
      "execution_count": 6,
      "metadata": {
        "colab": {
          "base_uri": "https://localhost:8080/",
          "height": 476
        },
        "id": "PpxP3OPt_DQ3",
        "outputId": "9c71379d-fde6-4f0d-fe12-5c49d82361c7"
      },
      "outputs": [
        {
          "output_type": "execute_result",
          "data": {
            "text/plain": [
              "   tripduration           starttime            stoptime  start station id  \\\n",
              "0         283.0  3/31/2016 09:15:31  3/31/2016 09:20:14             382.0   \n",
              "1         392.0   9/5/2016 16:43:30   9/5/2016 16:50:03            3109.0   \n",
              "2         705.0  4/17/2016 13:16:39  4/17/2016 13:28:25             354.0   \n",
              "3         535.0   5/2/2016 17:59:46   5/2/2016 18:08:42             517.0   \n",
              "4         286.0   2/6/2016 18:27:29   2/6/2016 18:32:16             490.0   \n",
              "\n",
              "         start station name  start station latitude  start station longitude  \\\n",
              "0   University Pl & E 14 St               40.734927               -73.992005   \n",
              "1  Banker St & Meserole Ave               40.726060               -73.956210   \n",
              "2   Emerson Pl & Myrtle Ave               40.693631               -73.962236   \n",
              "3     Pershing Square South               40.751581               -73.977910   \n",
              "4           8 Ave & W 33 St               40.751551               -73.993934   \n",
              "\n",
              "   end station id              end station name  end station latitude  \\\n",
              "0           491.0          E 24 St & Park Ave S             40.740964   \n",
              "1          2002.0  Wythe Ave & Metropolitan Ave             40.716887   \n",
              "2           242.0    Carlton Ave & Flushing Ave             40.697787   \n",
              "3           357.0            E 11 St & Broadway             40.732618   \n",
              "4           446.0               W 24 St & 7 Ave             40.744876   \n",
              "\n",
              "   end station longitude   bikeid    usertype  birth year  gender  \n",
              "0             -73.986022  21566.0  Subscriber     -1992.0     1.0  \n",
              "1             -73.963198  14670.0  Subscriber     -1991.0     2.0  \n",
              "2             -73.973736  21494.0  Subscriber      1979.0     1.0  \n",
              "3             -73.991580  22901.0  Subscriber      1984.0     1.0  \n",
              "4             -73.995299  21254.0  Subscriber      1981.0     1.0  "
            ],
            "text/html": [
              "\n",
              "\n",
              "  <div id=\"df-41c2ddfe-bdc3-493e-ae6a-4405baec5058\">\n",
              "    <div class=\"colab-df-container\">\n",
              "      <div>\n",
              "<style scoped>\n",
              "    .dataframe tbody tr th:only-of-type {\n",
              "        vertical-align: middle;\n",
              "    }\n",
              "\n",
              "    .dataframe tbody tr th {\n",
              "        vertical-align: top;\n",
              "    }\n",
              "\n",
              "    .dataframe thead th {\n",
              "        text-align: right;\n",
              "    }\n",
              "</style>\n",
              "<table border=\"1\" class=\"dataframe\">\n",
              "  <thead>\n",
              "    <tr style=\"text-align: right;\">\n",
              "      <th></th>\n",
              "      <th>tripduration</th>\n",
              "      <th>starttime</th>\n",
              "      <th>stoptime</th>\n",
              "      <th>start station id</th>\n",
              "      <th>start station name</th>\n",
              "      <th>start station latitude</th>\n",
              "      <th>start station longitude</th>\n",
              "      <th>end station id</th>\n",
              "      <th>end station name</th>\n",
              "      <th>end station latitude</th>\n",
              "      <th>end station longitude</th>\n",
              "      <th>bikeid</th>\n",
              "      <th>usertype</th>\n",
              "      <th>birth year</th>\n",
              "      <th>gender</th>\n",
              "    </tr>\n",
              "  </thead>\n",
              "  <tbody>\n",
              "    <tr>\n",
              "      <th>0</th>\n",
              "      <td>283.0</td>\n",
              "      <td>3/31/2016 09:15:31</td>\n",
              "      <td>3/31/2016 09:20:14</td>\n",
              "      <td>382.0</td>\n",
              "      <td>University Pl &amp; E 14 St</td>\n",
              "      <td>40.734927</td>\n",
              "      <td>-73.992005</td>\n",
              "      <td>491.0</td>\n",
              "      <td>E 24 St &amp; Park Ave S</td>\n",
              "      <td>40.740964</td>\n",
              "      <td>-73.986022</td>\n",
              "      <td>21566.0</td>\n",
              "      <td>Subscriber</td>\n",
              "      <td>-1992.0</td>\n",
              "      <td>1.0</td>\n",
              "    </tr>\n",
              "    <tr>\n",
              "      <th>1</th>\n",
              "      <td>392.0</td>\n",
              "      <td>9/5/2016 16:43:30</td>\n",
              "      <td>9/5/2016 16:50:03</td>\n",
              "      <td>3109.0</td>\n",
              "      <td>Banker St &amp; Meserole Ave</td>\n",
              "      <td>40.726060</td>\n",
              "      <td>-73.956210</td>\n",
              "      <td>2002.0</td>\n",
              "      <td>Wythe Ave &amp; Metropolitan Ave</td>\n",
              "      <td>40.716887</td>\n",
              "      <td>-73.963198</td>\n",
              "      <td>14670.0</td>\n",
              "      <td>Subscriber</td>\n",
              "      <td>-1991.0</td>\n",
              "      <td>2.0</td>\n",
              "    </tr>\n",
              "    <tr>\n",
              "      <th>2</th>\n",
              "      <td>705.0</td>\n",
              "      <td>4/17/2016 13:16:39</td>\n",
              "      <td>4/17/2016 13:28:25</td>\n",
              "      <td>354.0</td>\n",
              "      <td>Emerson Pl &amp; Myrtle Ave</td>\n",
              "      <td>40.693631</td>\n",
              "      <td>-73.962236</td>\n",
              "      <td>242.0</td>\n",
              "      <td>Carlton Ave &amp; Flushing Ave</td>\n",
              "      <td>40.697787</td>\n",
              "      <td>-73.973736</td>\n",
              "      <td>21494.0</td>\n",
              "      <td>Subscriber</td>\n",
              "      <td>1979.0</td>\n",
              "      <td>1.0</td>\n",
              "    </tr>\n",
              "    <tr>\n",
              "      <th>3</th>\n",
              "      <td>535.0</td>\n",
              "      <td>5/2/2016 17:59:46</td>\n",
              "      <td>5/2/2016 18:08:42</td>\n",
              "      <td>517.0</td>\n",
              "      <td>Pershing Square South</td>\n",
              "      <td>40.751581</td>\n",
              "      <td>-73.977910</td>\n",
              "      <td>357.0</td>\n",
              "      <td>E 11 St &amp; Broadway</td>\n",
              "      <td>40.732618</td>\n",
              "      <td>-73.991580</td>\n",
              "      <td>22901.0</td>\n",
              "      <td>Subscriber</td>\n",
              "      <td>1984.0</td>\n",
              "      <td>1.0</td>\n",
              "    </tr>\n",
              "    <tr>\n",
              "      <th>4</th>\n",
              "      <td>286.0</td>\n",
              "      <td>2/6/2016 18:27:29</td>\n",
              "      <td>2/6/2016 18:32:16</td>\n",
              "      <td>490.0</td>\n",
              "      <td>8 Ave &amp; W 33 St</td>\n",
              "      <td>40.751551</td>\n",
              "      <td>-73.993934</td>\n",
              "      <td>446.0</td>\n",
              "      <td>W 24 St &amp; 7 Ave</td>\n",
              "      <td>40.744876</td>\n",
              "      <td>-73.995299</td>\n",
              "      <td>21254.0</td>\n",
              "      <td>Subscriber</td>\n",
              "      <td>1981.0</td>\n",
              "      <td>1.0</td>\n",
              "    </tr>\n",
              "  </tbody>\n",
              "</table>\n",
              "</div>\n",
              "      <button class=\"colab-df-convert\" onclick=\"convertToInteractive('df-41c2ddfe-bdc3-493e-ae6a-4405baec5058')\"\n",
              "              title=\"Convert this dataframe to an interactive table.\"\n",
              "              style=\"display:none;\">\n",
              "\n",
              "  <svg xmlns=\"http://www.w3.org/2000/svg\" height=\"24px\"viewBox=\"0 0 24 24\"\n",
              "       width=\"24px\">\n",
              "    <path d=\"M0 0h24v24H0V0z\" fill=\"none\"/>\n",
              "    <path d=\"M18.56 5.44l.94 2.06.94-2.06 2.06-.94-2.06-.94-.94-2.06-.94 2.06-2.06.94zm-11 1L8.5 8.5l.94-2.06 2.06-.94-2.06-.94L8.5 2.5l-.94 2.06-2.06.94zm10 10l.94 2.06.94-2.06 2.06-.94-2.06-.94-.94-2.06-.94 2.06-2.06.94z\"/><path d=\"M17.41 7.96l-1.37-1.37c-.4-.4-.92-.59-1.43-.59-.52 0-1.04.2-1.43.59L10.3 9.45l-7.72 7.72c-.78.78-.78 2.05 0 2.83L4 21.41c.39.39.9.59 1.41.59.51 0 1.02-.2 1.41-.59l7.78-7.78 2.81-2.81c.8-.78.8-2.07 0-2.86zM5.41 20L4 18.59l7.72-7.72 1.47 1.35L5.41 20z\"/>\n",
              "  </svg>\n",
              "      </button>\n",
              "\n",
              "\n",
              "\n",
              "    <div id=\"df-75cad01a-2566-472b-8f85-c6f4e6acc9d7\">\n",
              "      <button class=\"colab-df-quickchart\" onclick=\"quickchart('df-75cad01a-2566-472b-8f85-c6f4e6acc9d7')\"\n",
              "              title=\"Suggest charts.\"\n",
              "              style=\"display:none;\">\n",
              "\n",
              "<svg xmlns=\"http://www.w3.org/2000/svg\" height=\"24px\"viewBox=\"0 0 24 24\"\n",
              "     width=\"24px\">\n",
              "    <g>\n",
              "        <path d=\"M19 3H5c-1.1 0-2 .9-2 2v14c0 1.1.9 2 2 2h14c1.1 0 2-.9 2-2V5c0-1.1-.9-2-2-2zM9 17H7v-7h2v7zm4 0h-2V7h2v10zm4 0h-2v-4h2v4z\"/>\n",
              "    </g>\n",
              "</svg>\n",
              "      </button>\n",
              "    </div>\n",
              "\n",
              "<style>\n",
              "  .colab-df-quickchart {\n",
              "    background-color: #E8F0FE;\n",
              "    border: none;\n",
              "    border-radius: 50%;\n",
              "    cursor: pointer;\n",
              "    display: none;\n",
              "    fill: #1967D2;\n",
              "    height: 32px;\n",
              "    padding: 0 0 0 0;\n",
              "    width: 32px;\n",
              "  }\n",
              "\n",
              "  .colab-df-quickchart:hover {\n",
              "    background-color: #E2EBFA;\n",
              "    box-shadow: 0px 1px 2px rgba(60, 64, 67, 0.3), 0px 1px 3px 1px rgba(60, 64, 67, 0.15);\n",
              "    fill: #174EA6;\n",
              "  }\n",
              "\n",
              "  [theme=dark] .colab-df-quickchart {\n",
              "    background-color: #3B4455;\n",
              "    fill: #D2E3FC;\n",
              "  }\n",
              "\n",
              "  [theme=dark] .colab-df-quickchart:hover {\n",
              "    background-color: #434B5C;\n",
              "    box-shadow: 0px 1px 3px 1px rgba(0, 0, 0, 0.15);\n",
              "    filter: drop-shadow(0px 1px 2px rgba(0, 0, 0, 0.3));\n",
              "    fill: #FFFFFF;\n",
              "  }\n",
              "</style>\n",
              "\n",
              "    <script>\n",
              "      async function quickchart(key) {\n",
              "        const containerElement = document.querySelector('#' + key);\n",
              "        const charts = await google.colab.kernel.invokeFunction(\n",
              "            'suggestCharts', [key], {});\n",
              "      }\n",
              "    </script>\n",
              "\n",
              "\n",
              "      <script>\n",
              "\n",
              "function displayQuickchartButton(domScope) {\n",
              "  let quickchartButtonEl =\n",
              "    domScope.querySelector('#df-75cad01a-2566-472b-8f85-c6f4e6acc9d7 button.colab-df-quickchart');\n",
              "  quickchartButtonEl.style.display =\n",
              "    google.colab.kernel.accessAllowed ? 'block' : 'none';\n",
              "}\n",
              "\n",
              "        displayQuickchartButton(document);\n",
              "      </script>\n",
              "      <style>\n",
              "    .colab-df-container {\n",
              "      display:flex;\n",
              "      flex-wrap:wrap;\n",
              "      gap: 12px;\n",
              "    }\n",
              "\n",
              "    .colab-df-convert {\n",
              "      background-color: #E8F0FE;\n",
              "      border: none;\n",
              "      border-radius: 50%;\n",
              "      cursor: pointer;\n",
              "      display: none;\n",
              "      fill: #1967D2;\n",
              "      height: 32px;\n",
              "      padding: 0 0 0 0;\n",
              "      width: 32px;\n",
              "    }\n",
              "\n",
              "    .colab-df-convert:hover {\n",
              "      background-color: #E2EBFA;\n",
              "      box-shadow: 0px 1px 2px rgba(60, 64, 67, 0.3), 0px 1px 3px 1px rgba(60, 64, 67, 0.15);\n",
              "      fill: #174EA6;\n",
              "    }\n",
              "\n",
              "    [theme=dark] .colab-df-convert {\n",
              "      background-color: #3B4455;\n",
              "      fill: #D2E3FC;\n",
              "    }\n",
              "\n",
              "    [theme=dark] .colab-df-convert:hover {\n",
              "      background-color: #434B5C;\n",
              "      box-shadow: 0px 1px 3px 1px rgba(0, 0, 0, 0.15);\n",
              "      filter: drop-shadow(0px 1px 2px rgba(0, 0, 0, 0.3));\n",
              "      fill: #FFFFFF;\n",
              "    }\n",
              "  </style>\n",
              "\n",
              "      <script>\n",
              "        const buttonEl =\n",
              "          document.querySelector('#df-41c2ddfe-bdc3-493e-ae6a-4405baec5058 button.colab-df-convert');\n",
              "        buttonEl.style.display =\n",
              "          google.colab.kernel.accessAllowed ? 'block' : 'none';\n",
              "\n",
              "        async function convertToInteractive(key) {\n",
              "          const element = document.querySelector('#df-41c2ddfe-bdc3-493e-ae6a-4405baec5058');\n",
              "          const dataTable =\n",
              "            await google.colab.kernel.invokeFunction('convertToInteractive',\n",
              "                                                     [key], {});\n",
              "          if (!dataTable) return;\n",
              "\n",
              "          const docLinkHtml = 'Like what you see? Visit the ' +\n",
              "            '<a target=\"_blank\" href=https://colab.research.google.com/notebooks/data_table.ipynb>data table notebook</a>'\n",
              "            + ' to learn more about interactive tables.';\n",
              "          element.innerHTML = '';\n",
              "          dataTable['output_type'] = 'display_data';\n",
              "          await google.colab.output.renderOutput(dataTable, element);\n",
              "          const docLink = document.createElement('div');\n",
              "          docLink.innerHTML = docLinkHtml;\n",
              "          element.appendChild(docLink);\n",
              "        }\n",
              "      </script>\n",
              "    </div>\n",
              "  </div>\n"
            ]
          },
          "metadata": {},
          "execution_count": 6
        }
      ],
      "source": [
        "df.head(5)"
      ]
    },
    {
      "cell_type": "code",
      "execution_count": 7,
      "metadata": {
        "colab": {
          "base_uri": "https://localhost:8080/"
        },
        "id": "Cs5kws7p_DQ9",
        "outputId": "055a2961-977b-4243-8d5c-ddd4a2572dde"
      },
      "outputs": [
        {
          "output_type": "stream",
          "name": "stdout",
          "text": [
            "0\n"
          ]
        }
      ],
      "source": [
        "# removendo linhas duplicadas\n",
        "\n",
        "df = df.drop_duplicates()\n",
        "print(df.duplicated().sum())"
      ]
    },
    {
      "cell_type": "code",
      "execution_count": 8,
      "metadata": {
        "colab": {
          "base_uri": "https://localhost:8080/"
        },
        "id": "PBYcMfU__DRB",
        "outputId": "a1cf929c-b9da-4d9b-b2bb-5cfd61856c59"
      },
      "outputs": [
        {
          "output_type": "execute_result",
          "data": {
            "text/plain": [
              "tripduration                    1\n",
              "starttime                       1\n",
              "stoptime                        1\n",
              "start station id              152\n",
              "start station name            152\n",
              "start station latitude          1\n",
              "start station longitude         1\n",
              "end station id                152\n",
              "end station name              152\n",
              "end station latitude            1\n",
              "end station longitude           1\n",
              "bikeid                          1\n",
              "usertype                        1\n",
              "birth year                 185692\n",
              "gender                          1\n",
              "dtype: int64"
            ]
          },
          "metadata": {},
          "execution_count": 8
        }
      ],
      "source": [
        "# verificando a quantidade de valores nulos para cada coluna\n",
        "\n",
        "df.isna().sum()"
      ]
    },
    {
      "cell_type": "code",
      "execution_count": 9,
      "metadata": {
        "id": "pT_ygH1V_DRG"
      },
      "outputs": [],
      "source": [
        "# removendo as linhas onde start_station_id tem valores nulos, já que são poucas\n",
        "\n",
        "df = df.dropna(subset=['start station id'])"
      ]
    },
    {
      "cell_type": "code",
      "execution_count": 10,
      "metadata": {
        "colab": {
          "base_uri": "https://localhost:8080/"
        },
        "id": "KmKFRck2_DRK",
        "outputId": "3ef048d8-9a5d-4f8a-8ddb-2cd1d8f001e4"
      },
      "outputs": [
        {
          "output_type": "execute_result",
          "data": {
            "text/plain": [
              "tripduration                    0\n",
              "starttime                       0\n",
              "stoptime                        0\n",
              "start station id                0\n",
              "start station name              0\n",
              "start station latitude          0\n",
              "start station longitude         0\n",
              "end station id                  0\n",
              "end station name                0\n",
              "end station latitude            0\n",
              "end station longitude           0\n",
              "bikeid                          0\n",
              "usertype                        0\n",
              "birth year                 185691\n",
              "gender                          0\n",
              "dtype: int64"
            ]
          },
          "metadata": {},
          "execution_count": 10
        }
      ],
      "source": [
        "# verificando o que ainda resta de valores nulos\n",
        "\n",
        "df.isna().sum()"
      ]
    },
    {
      "cell_type": "code",
      "execution_count": 11,
      "metadata": {
        "colab": {
          "base_uri": "https://localhost:8080/"
        },
        "id": "AvQ95v5NqIwX",
        "outputId": "43ac407f-9eab-45d5-e856-88a59599d30a"
      },
      "outputs": [
        {
          "output_type": "execute_result",
          "data": {
            "text/plain": [
              "Index(['tripduration', 'starttime', 'stoptime', 'start station id',\n",
              "       'start station name', 'start station latitude',\n",
              "       'start station longitude', 'end station id', 'end station name',\n",
              "       'end station latitude', 'end station longitude', 'bikeid', 'usertype',\n",
              "       'birth year', 'gender'],\n",
              "      dtype='object')"
            ]
          },
          "metadata": {},
          "execution_count": 11
        }
      ],
      "source": [
        "df.columns"
      ]
    },
    {
      "cell_type": "code",
      "execution_count": 12,
      "metadata": {
        "id": "LVh4TL5AkHrl"
      },
      "outputs": [],
      "source": [
        "# renomeando colunas\n",
        "\n",
        "df = df.rename(columns={'start station id':'start_station_id',\n",
        "                   'start station name':'start_station_name',\n",
        "                   'start station latitude':'start_station_latitude',\n",
        "                   'start station longitude': 'start_station_longitude',\n",
        "                   'end station id':'end_station_id',\n",
        "                   'end station name':'end_station_name',\n",
        "                   'end station latitude':'end_station_latitude',\n",
        "                   'end station longitude':'end_station_longitude',\n",
        "                   'birth year': 'birth_year'})"
      ]
    },
    {
      "cell_type": "code",
      "execution_count": 13,
      "metadata": {
        "colab": {
          "base_uri": "https://localhost:8080/",
          "height": 357
        },
        "id": "C4VOM7T64OuN",
        "outputId": "d3714ff2-cb4b-44a1-adca-a522a5caadc5"
      },
      "outputs": [
        {
          "output_type": "execute_result",
          "data": {
            "text/plain": [
              "   tripduration           starttime            stoptime  start_station_id  \\\n",
              "0         283.0  3/31/2016 09:15:31  3/31/2016 09:20:14             382.0   \n",
              "1         392.0   9/5/2016 16:43:30   9/5/2016 16:50:03            3109.0   \n",
              "2         705.0  4/17/2016 13:16:39  4/17/2016 13:28:25             354.0   \n",
              "3         535.0   5/2/2016 17:59:46   5/2/2016 18:08:42             517.0   \n",
              "4         286.0   2/6/2016 18:27:29   2/6/2016 18:32:16             490.0   \n",
              "\n",
              "         start_station_name  start_station_latitude  start_station_longitude  \\\n",
              "0   University Pl & E 14 St               40.734927               -73.992005   \n",
              "1  Banker St & Meserole Ave               40.726060               -73.956210   \n",
              "2   Emerson Pl & Myrtle Ave               40.693631               -73.962236   \n",
              "3     Pershing Square South               40.751581               -73.977910   \n",
              "4           8 Ave & W 33 St               40.751551               -73.993934   \n",
              "\n",
              "   end_station_id              end_station_name  end_station_latitude  \\\n",
              "0           491.0          E 24 St & Park Ave S             40.740964   \n",
              "1          2002.0  Wythe Ave & Metropolitan Ave             40.716887   \n",
              "2           242.0    Carlton Ave & Flushing Ave             40.697787   \n",
              "3           357.0            E 11 St & Broadway             40.732618   \n",
              "4           446.0               W 24 St & 7 Ave             40.744876   \n",
              "\n",
              "   end_station_longitude   bikeid    usertype  birth_year  gender  \n",
              "0             -73.986022  21566.0  Subscriber     -1992.0     1.0  \n",
              "1             -73.963198  14670.0  Subscriber     -1991.0     2.0  \n",
              "2             -73.973736  21494.0  Subscriber      1979.0     1.0  \n",
              "3             -73.991580  22901.0  Subscriber      1984.0     1.0  \n",
              "4             -73.995299  21254.0  Subscriber      1981.0     1.0  "
            ],
            "text/html": [
              "\n",
              "\n",
              "  <div id=\"df-03e3e862-28f5-4416-81a6-5353a35c89e1\">\n",
              "    <div class=\"colab-df-container\">\n",
              "      <div>\n",
              "<style scoped>\n",
              "    .dataframe tbody tr th:only-of-type {\n",
              "        vertical-align: middle;\n",
              "    }\n",
              "\n",
              "    .dataframe tbody tr th {\n",
              "        vertical-align: top;\n",
              "    }\n",
              "\n",
              "    .dataframe thead th {\n",
              "        text-align: right;\n",
              "    }\n",
              "</style>\n",
              "<table border=\"1\" class=\"dataframe\">\n",
              "  <thead>\n",
              "    <tr style=\"text-align: right;\">\n",
              "      <th></th>\n",
              "      <th>tripduration</th>\n",
              "      <th>starttime</th>\n",
              "      <th>stoptime</th>\n",
              "      <th>start_station_id</th>\n",
              "      <th>start_station_name</th>\n",
              "      <th>start_station_latitude</th>\n",
              "      <th>start_station_longitude</th>\n",
              "      <th>end_station_id</th>\n",
              "      <th>end_station_name</th>\n",
              "      <th>end_station_latitude</th>\n",
              "      <th>end_station_longitude</th>\n",
              "      <th>bikeid</th>\n",
              "      <th>usertype</th>\n",
              "      <th>birth_year</th>\n",
              "      <th>gender</th>\n",
              "    </tr>\n",
              "  </thead>\n",
              "  <tbody>\n",
              "    <tr>\n",
              "      <th>0</th>\n",
              "      <td>283.0</td>\n",
              "      <td>3/31/2016 09:15:31</td>\n",
              "      <td>3/31/2016 09:20:14</td>\n",
              "      <td>382.0</td>\n",
              "      <td>University Pl &amp; E 14 St</td>\n",
              "      <td>40.734927</td>\n",
              "      <td>-73.992005</td>\n",
              "      <td>491.0</td>\n",
              "      <td>E 24 St &amp; Park Ave S</td>\n",
              "      <td>40.740964</td>\n",
              "      <td>-73.986022</td>\n",
              "      <td>21566.0</td>\n",
              "      <td>Subscriber</td>\n",
              "      <td>-1992.0</td>\n",
              "      <td>1.0</td>\n",
              "    </tr>\n",
              "    <tr>\n",
              "      <th>1</th>\n",
              "      <td>392.0</td>\n",
              "      <td>9/5/2016 16:43:30</td>\n",
              "      <td>9/5/2016 16:50:03</td>\n",
              "      <td>3109.0</td>\n",
              "      <td>Banker St &amp; Meserole Ave</td>\n",
              "      <td>40.726060</td>\n",
              "      <td>-73.956210</td>\n",
              "      <td>2002.0</td>\n",
              "      <td>Wythe Ave &amp; Metropolitan Ave</td>\n",
              "      <td>40.716887</td>\n",
              "      <td>-73.963198</td>\n",
              "      <td>14670.0</td>\n",
              "      <td>Subscriber</td>\n",
              "      <td>-1991.0</td>\n",
              "      <td>2.0</td>\n",
              "    </tr>\n",
              "    <tr>\n",
              "      <th>2</th>\n",
              "      <td>705.0</td>\n",
              "      <td>4/17/2016 13:16:39</td>\n",
              "      <td>4/17/2016 13:28:25</td>\n",
              "      <td>354.0</td>\n",
              "      <td>Emerson Pl &amp; Myrtle Ave</td>\n",
              "      <td>40.693631</td>\n",
              "      <td>-73.962236</td>\n",
              "      <td>242.0</td>\n",
              "      <td>Carlton Ave &amp; Flushing Ave</td>\n",
              "      <td>40.697787</td>\n",
              "      <td>-73.973736</td>\n",
              "      <td>21494.0</td>\n",
              "      <td>Subscriber</td>\n",
              "      <td>1979.0</td>\n",
              "      <td>1.0</td>\n",
              "    </tr>\n",
              "    <tr>\n",
              "      <th>3</th>\n",
              "      <td>535.0</td>\n",
              "      <td>5/2/2016 17:59:46</td>\n",
              "      <td>5/2/2016 18:08:42</td>\n",
              "      <td>517.0</td>\n",
              "      <td>Pershing Square South</td>\n",
              "      <td>40.751581</td>\n",
              "      <td>-73.977910</td>\n",
              "      <td>357.0</td>\n",
              "      <td>E 11 St &amp; Broadway</td>\n",
              "      <td>40.732618</td>\n",
              "      <td>-73.991580</td>\n",
              "      <td>22901.0</td>\n",
              "      <td>Subscriber</td>\n",
              "      <td>1984.0</td>\n",
              "      <td>1.0</td>\n",
              "    </tr>\n",
              "    <tr>\n",
              "      <th>4</th>\n",
              "      <td>286.0</td>\n",
              "      <td>2/6/2016 18:27:29</td>\n",
              "      <td>2/6/2016 18:32:16</td>\n",
              "      <td>490.0</td>\n",
              "      <td>8 Ave &amp; W 33 St</td>\n",
              "      <td>40.751551</td>\n",
              "      <td>-73.993934</td>\n",
              "      <td>446.0</td>\n",
              "      <td>W 24 St &amp; 7 Ave</td>\n",
              "      <td>40.744876</td>\n",
              "      <td>-73.995299</td>\n",
              "      <td>21254.0</td>\n",
              "      <td>Subscriber</td>\n",
              "      <td>1981.0</td>\n",
              "      <td>1.0</td>\n",
              "    </tr>\n",
              "  </tbody>\n",
              "</table>\n",
              "</div>\n",
              "      <button class=\"colab-df-convert\" onclick=\"convertToInteractive('df-03e3e862-28f5-4416-81a6-5353a35c89e1')\"\n",
              "              title=\"Convert this dataframe to an interactive table.\"\n",
              "              style=\"display:none;\">\n",
              "\n",
              "  <svg xmlns=\"http://www.w3.org/2000/svg\" height=\"24px\"viewBox=\"0 0 24 24\"\n",
              "       width=\"24px\">\n",
              "    <path d=\"M0 0h24v24H0V0z\" fill=\"none\"/>\n",
              "    <path d=\"M18.56 5.44l.94 2.06.94-2.06 2.06-.94-2.06-.94-.94-2.06-.94 2.06-2.06.94zm-11 1L8.5 8.5l.94-2.06 2.06-.94-2.06-.94L8.5 2.5l-.94 2.06-2.06.94zm10 10l.94 2.06.94-2.06 2.06-.94-2.06-.94-.94-2.06-.94 2.06-2.06.94z\"/><path d=\"M17.41 7.96l-1.37-1.37c-.4-.4-.92-.59-1.43-.59-.52 0-1.04.2-1.43.59L10.3 9.45l-7.72 7.72c-.78.78-.78 2.05 0 2.83L4 21.41c.39.39.9.59 1.41.59.51 0 1.02-.2 1.41-.59l7.78-7.78 2.81-2.81c.8-.78.8-2.07 0-2.86zM5.41 20L4 18.59l7.72-7.72 1.47 1.35L5.41 20z\"/>\n",
              "  </svg>\n",
              "      </button>\n",
              "\n",
              "\n",
              "\n",
              "    <div id=\"df-fdccd042-4306-4453-9029-7371f7b64746\">\n",
              "      <button class=\"colab-df-quickchart\" onclick=\"quickchart('df-fdccd042-4306-4453-9029-7371f7b64746')\"\n",
              "              title=\"Suggest charts.\"\n",
              "              style=\"display:none;\">\n",
              "\n",
              "<svg xmlns=\"http://www.w3.org/2000/svg\" height=\"24px\"viewBox=\"0 0 24 24\"\n",
              "     width=\"24px\">\n",
              "    <g>\n",
              "        <path d=\"M19 3H5c-1.1 0-2 .9-2 2v14c0 1.1.9 2 2 2h14c1.1 0 2-.9 2-2V5c0-1.1-.9-2-2-2zM9 17H7v-7h2v7zm4 0h-2V7h2v10zm4 0h-2v-4h2v4z\"/>\n",
              "    </g>\n",
              "</svg>\n",
              "      </button>\n",
              "    </div>\n",
              "\n",
              "<style>\n",
              "  .colab-df-quickchart {\n",
              "    background-color: #E8F0FE;\n",
              "    border: none;\n",
              "    border-radius: 50%;\n",
              "    cursor: pointer;\n",
              "    display: none;\n",
              "    fill: #1967D2;\n",
              "    height: 32px;\n",
              "    padding: 0 0 0 0;\n",
              "    width: 32px;\n",
              "  }\n",
              "\n",
              "  .colab-df-quickchart:hover {\n",
              "    background-color: #E2EBFA;\n",
              "    box-shadow: 0px 1px 2px rgba(60, 64, 67, 0.3), 0px 1px 3px 1px rgba(60, 64, 67, 0.15);\n",
              "    fill: #174EA6;\n",
              "  }\n",
              "\n",
              "  [theme=dark] .colab-df-quickchart {\n",
              "    background-color: #3B4455;\n",
              "    fill: #D2E3FC;\n",
              "  }\n",
              "\n",
              "  [theme=dark] .colab-df-quickchart:hover {\n",
              "    background-color: #434B5C;\n",
              "    box-shadow: 0px 1px 3px 1px rgba(0, 0, 0, 0.15);\n",
              "    filter: drop-shadow(0px 1px 2px rgba(0, 0, 0, 0.3));\n",
              "    fill: #FFFFFF;\n",
              "  }\n",
              "</style>\n",
              "\n",
              "    <script>\n",
              "      async function quickchart(key) {\n",
              "        const containerElement = document.querySelector('#' + key);\n",
              "        const charts = await google.colab.kernel.invokeFunction(\n",
              "            'suggestCharts', [key], {});\n",
              "      }\n",
              "    </script>\n",
              "\n",
              "\n",
              "      <script>\n",
              "\n",
              "function displayQuickchartButton(domScope) {\n",
              "  let quickchartButtonEl =\n",
              "    domScope.querySelector('#df-fdccd042-4306-4453-9029-7371f7b64746 button.colab-df-quickchart');\n",
              "  quickchartButtonEl.style.display =\n",
              "    google.colab.kernel.accessAllowed ? 'block' : 'none';\n",
              "}\n",
              "\n",
              "        displayQuickchartButton(document);\n",
              "      </script>\n",
              "      <style>\n",
              "    .colab-df-container {\n",
              "      display:flex;\n",
              "      flex-wrap:wrap;\n",
              "      gap: 12px;\n",
              "    }\n",
              "\n",
              "    .colab-df-convert {\n",
              "      background-color: #E8F0FE;\n",
              "      border: none;\n",
              "      border-radius: 50%;\n",
              "      cursor: pointer;\n",
              "      display: none;\n",
              "      fill: #1967D2;\n",
              "      height: 32px;\n",
              "      padding: 0 0 0 0;\n",
              "      width: 32px;\n",
              "    }\n",
              "\n",
              "    .colab-df-convert:hover {\n",
              "      background-color: #E2EBFA;\n",
              "      box-shadow: 0px 1px 2px rgba(60, 64, 67, 0.3), 0px 1px 3px 1px rgba(60, 64, 67, 0.15);\n",
              "      fill: #174EA6;\n",
              "    }\n",
              "\n",
              "    [theme=dark] .colab-df-convert {\n",
              "      background-color: #3B4455;\n",
              "      fill: #D2E3FC;\n",
              "    }\n",
              "\n",
              "    [theme=dark] .colab-df-convert:hover {\n",
              "      background-color: #434B5C;\n",
              "      box-shadow: 0px 1px 3px 1px rgba(0, 0, 0, 0.15);\n",
              "      filter: drop-shadow(0px 1px 2px rgba(0, 0, 0, 0.3));\n",
              "      fill: #FFFFFF;\n",
              "    }\n",
              "  </style>\n",
              "\n",
              "      <script>\n",
              "        const buttonEl =\n",
              "          document.querySelector('#df-03e3e862-28f5-4416-81a6-5353a35c89e1 button.colab-df-convert');\n",
              "        buttonEl.style.display =\n",
              "          google.colab.kernel.accessAllowed ? 'block' : 'none';\n",
              "\n",
              "        async function convertToInteractive(key) {\n",
              "          const element = document.querySelector('#df-03e3e862-28f5-4416-81a6-5353a35c89e1');\n",
              "          const dataTable =\n",
              "            await google.colab.kernel.invokeFunction('convertToInteractive',\n",
              "                                                     [key], {});\n",
              "          if (!dataTable) return;\n",
              "\n",
              "          const docLinkHtml = 'Like what you see? Visit the ' +\n",
              "            '<a target=\"_blank\" href=https://colab.research.google.com/notebooks/data_table.ipynb>data table notebook</a>'\n",
              "            + ' to learn more about interactive tables.';\n",
              "          element.innerHTML = '';\n",
              "          dataTable['output_type'] = 'display_data';\n",
              "          await google.colab.output.renderOutput(dataTable, element);\n",
              "          const docLink = document.createElement('div');\n",
              "          docLink.innerHTML = docLinkHtml;\n",
              "          element.appendChild(docLink);\n",
              "        }\n",
              "      </script>\n",
              "    </div>\n",
              "  </div>\n"
            ]
          },
          "metadata": {},
          "execution_count": 13
        }
      ],
      "source": [
        "# visualizando o dataset com as colunas modificadas\n",
        "\n",
        "df.head(5)"
      ]
    },
    {
      "cell_type": "markdown",
      "metadata": {
        "id": "bhYo0GWRhtl1"
      },
      "source": [
        "### Podemos verificar que na coluna 'birth_year' existem alguns valores negativos o que não faz muito sentido. Devemos ter valores positivos."
      ]
    },
    {
      "cell_type": "code",
      "execution_count": 14,
      "metadata": {
        "colab": {
          "base_uri": "https://localhost:8080/"
        },
        "id": "03ihRZN1h-r0",
        "outputId": "f924c64f-5589-4016-bf27-43430fdbbea0"
      },
      "outputs": [
        {
          "output_type": "execute_result",
          "data": {
            "text/plain": [
              "0         -1992.0\n",
              "1         -1991.0\n",
              "2          1979.0\n",
              "3          1984.0\n",
              "4          1981.0\n",
              "            ...  \n",
              "3999995    1978.0\n",
              "3999996    1981.0\n",
              "3999997    1980.0\n",
              "3999998    1965.0\n",
              "3999999    1981.0\n",
              "Name: birth_year, Length: 3603071, dtype: float64"
            ]
          },
          "metadata": {},
          "execution_count": 14
        }
      ],
      "source": [
        "df['birth_year']"
      ]
    },
    {
      "cell_type": "code",
      "execution_count": 15,
      "metadata": {
        "colab": {
          "base_uri": "https://localhost:8080/"
        },
        "id": "gC4Mnq8WkHmu",
        "outputId": "e7a93121-4e9b-42d9-b5d4-145424d14833"
      },
      "outputs": [
        {
          "output_type": "execute_result",
          "data": {
            "text/plain": [
              "0          1992.0\n",
              "1          1991.0\n",
              "2          1979.0\n",
              "3          1984.0\n",
              "4          1981.0\n",
              "            ...  \n",
              "3999995    1978.0\n",
              "3999996    1981.0\n",
              "3999997    1980.0\n",
              "3999998    1965.0\n",
              "3999999    1981.0\n",
              "Name: birth_year, Length: 3603071, dtype: float64"
            ]
          },
          "metadata": {},
          "execution_count": 15
        }
      ],
      "source": [
        "# tomando o modulo dos valores de birth_year\n",
        "\n",
        "df ['birth_year'] = df['birth_year'].abs()\n",
        "df['birth_year']"
      ]
    },
    {
      "cell_type": "markdown",
      "metadata": {
        "id": "MX4Wv689FpiC"
      },
      "source": [
        "### Verificando datas;\n",
        "\n",
        "*   convertendo o tempo de duração da viagem para minutos\n",
        "*   criando nova coluna com idades\n",
        "*   criando nova coluna com dias da semana\n",
        "\n",
        "\n",
        "\n"
      ]
    },
    {
      "cell_type": "code",
      "execution_count": 16,
      "metadata": {
        "id": "Nj_JeC-3Fjdc"
      },
      "outputs": [],
      "source": [
        "# passando valores das datas de float para tipo datetime\n",
        "df['starttime'] = pd.to_datetime(df['starttime'])\n",
        "df['stoptime'] = pd.to_datetime(df['stoptime'])\n",
        "\n",
        "# alterando coluna de duração de viagem para minutos\n",
        "df['tripduration'] = df['tripduration']/60.\n",
        "df = df.rename(columns={'tripduration':'tripduration_min'})"
      ]
    },
    {
      "cell_type": "code",
      "execution_count": 17,
      "metadata": {
        "colab": {
          "base_uri": "https://localhost:8080/"
        },
        "id": "2mC9xcm8_DRg",
        "outputId": "4a81e75c-4729-4143-bead-439a95039328"
      },
      "outputs": [
        {
          "output_type": "stream",
          "name": "stdout",
          "text": [
            "Quantidade de linhas com viagens com mais de 120 minutos: 11949\n"
          ]
        }
      ],
      "source": [
        "# contando a quantidade de linhas com viagens com mais de 120 minutos\n",
        "count_over_120 = len(df[df['tripduration_min'] > 120])\n",
        "\n",
        "print(f\"Quantidade de linhas com viagens com mais de 120 minutos: {count_over_120}\")"
      ]
    },
    {
      "cell_type": "code",
      "execution_count": 18,
      "metadata": {
        "id": "rmh3Rvtv_DRi"
      },
      "outputs": [],
      "source": [
        "# Removendo as linhas com viagens com mais de 120 minutos\n",
        "df = df[df['tripduration_min'] <= 120]"
      ]
    },
    {
      "cell_type": "code",
      "execution_count": 19,
      "metadata": {
        "id": "_4rEohwTHB4u"
      },
      "outputs": [],
      "source": [
        "# criando a coluna age: pega o ano em que a pessoa usou a bike e subtrai do ano de nascimento\n",
        "\n",
        "df['age'] = df['starttime'].dt.year - df['birth_year']"
      ]
    },
    {
      "cell_type": "code",
      "execution_count": 20,
      "metadata": {
        "colab": {
          "base_uri": "https://localhost:8080/"
        },
        "id": "Hzkih9bZ_DRm",
        "outputId": "215db8ab-8b47-48d6-fbd8-f562a0918bc3"
      },
      "outputs": [
        {
          "output_type": "stream",
          "name": "stdout",
          "text": [
            "Quantidade de linhas com usuários com mais de 85 anos: 2324\n"
          ]
        }
      ],
      "source": [
        "# contando a quantidade de linhas com usuários com mais de 85 anos\n",
        "count_over_80 = len(df[df['age'] > 85])\n",
        "\n",
        "print(f\"Quantidade de linhas com usuários com mais de 85 anos: {count_over_80}\")"
      ]
    },
    {
      "cell_type": "code",
      "execution_count": 21,
      "metadata": {
        "id": "EComHpFG_DRn"
      },
      "outputs": [],
      "source": [
        "# Removendo as linhas com usuários com mais de 85 anos\n",
        "df = df[df['age'] <= 85]"
      ]
    },
    {
      "cell_type": "code",
      "execution_count": 22,
      "metadata": {
        "colab": {
          "base_uri": "https://localhost:8080/",
          "height": 968
        },
        "id": "41rDfd3y_DRo",
        "outputId": "41ff0aa7-8c10-4e2f-a81c-12e49467bf2c"
      },
      "outputs": [
        {
          "output_type": "display_data",
          "data": {
            "text/plain": [
              "<Figure size 2500x2000 with 1 Axes>"
            ],
            "image/png": "[encoded data removed]"
          },
          "metadata": {}
        }
      ],
      "source": [
        "# verificando a distribuição das idades\n",
        "\n",
        "plt.figure(figsize=(25,20))\n",
        "sns.countplot(y = df['age'])\n",
        "plt.show()"
      ]
    },
    {
      "cell_type": "code",
      "source": [],
      "metadata": {
        "id": "Wfhb2WMGHGkn"
      },
      "execution_count": 22,
      "outputs": []
    },
    {
      "cell_type": "code",
      "execution_count": 23,
      "metadata": {
        "colab": {
          "base_uri": "https://localhost:8080/"
        },
        "id": "08x9P8xl_DRq",
        "outputId": "40a6aaec-c4ee-4e42-b123-fbdd157828c9"
      },
      "outputs": [
        {
          "output_type": "stream",
          "name": "stdout",
          "text": [
            "Quantidade de linhas com birth_year igual a 1969: 203346\n"
          ]
        }
      ],
      "source": [
        "# verificar pq tantos de 1969\n",
        "\n",
        "count_1969 = len(df[df['birth_year'] == 1969])\n",
        "print(f\"Quantidade de linhas com birth_year igual a 1969: {count_1969}\")"
      ]
    },
    {
      "cell_type": "code",
      "execution_count": 24,
      "metadata": {
        "colab": {
          "base_uri": "https://localhost:8080/",
          "height": 373
        },
        "id": "8jivh93j_DRr",
        "outputId": "0585330e-01c8-4e41-a547-1e735e05e994"
      },
      "outputs": [
        {
          "output_type": "error",
          "ename": "RecursionError",
          "evalue": "ignored",
          "traceback": [
            "\u001b[0;31m---------------------------------------------------------------------------\u001b[0m",
            "\u001b[0;31mRecursionError\u001b[0m                            Traceback (most recent call last)",
            "\u001b[0;32m<ipython-input-24-c8da3a523e17>\u001b[0m in \u001b[0;36m<cell line: 2>\u001b[0;34m()\u001b[0m\n\u001b[1;32m      1\u001b[0m \u001b[0;31m# Substituir todos os valores 1969 por valores ausentes (NaN)\u001b[0m\u001b[0;34m\u001b[0m\u001b[0;34m\u001b[0m\u001b[0m\n\u001b[0;32m----> 2\u001b[0;31m \u001b[0mdf\u001b[0m\u001b[0;34m[\u001b[0m\u001b[0;34m'birth_year'\u001b[0m\u001b[0;34m]\u001b[0m \u001b[0;34m=\u001b[0m \u001b[0mdf\u001b[0m\u001b[0;34m[\u001b[0m\u001b[0;34m'birth_year'\u001b[0m\u001b[0;34m]\u001b[0m\u001b[0;34m.\u001b[0m\u001b[0mreplace\u001b[0m\u001b[0;34m(\u001b[0m\u001b[0;36m1969\u001b[0m\u001b[0;34m,\u001b[0m \u001b[0mpd\u001b[0m\u001b[0;34m.\u001b[0m\u001b[0mNA\u001b[0m\u001b[0;34m)\u001b[0m\u001b[0;34m\u001b[0m\u001b[0;34m\u001b[0m\u001b[0m\n\u001b[0m",
            "\u001b[0;32m/usr/local/lib/python3.10/dist-packages/pandas/util/_decorators.py\u001b[0m in \u001b[0;36mwrapper\u001b[0;34m(*args, **kwargs)\u001b[0m\n\u001b[1;32m    329\u001b[0m                     \u001b[0mstacklevel\u001b[0m\u001b[0;34m=\u001b[0m\u001b[0mfind_stack_level\u001b[0m\u001b[0;34m(\u001b[0m\u001b[0;34m)\u001b[0m\u001b[0;34m,\u001b[0m\u001b[0;34m\u001b[0m\u001b[0;34m\u001b[0m\u001b[0m\n\u001b[1;32m    330\u001b[0m                 )\n\u001b[0;32m--> 331\u001b[0;31m             \u001b[0;32mreturn\u001b[0m \u001b[0mfunc\u001b[0m\u001b[0;34m(\u001b[0m\u001b[0;34m*\u001b[0m\u001b[0margs\u001b[0m\u001b[0;34m,\u001b[0m \u001b[0;34m**\u001b[0m\u001b[0mkwargs\u001b[0m\u001b[0;34m)\u001b[0m\u001b[0;34m\u001b[0m\u001b[0;34m\u001b[0m\u001b[0m\n\u001b[0m\u001b[1;32m    332\u001b[0m \u001b[0;34m\u001b[0m\u001b[0m\n\u001b[1;32m    333\u001b[0m         \u001b[0;31m# error: \"Callable[[VarArg(Any), KwArg(Any)], Any]\" has no\u001b[0m\u001b[0;34m\u001b[0m\u001b[0;34m\u001b[0m\u001b[0m\n",
            "\u001b[0;32m/usr/local/lib/python3.10/dist-packages/pandas/core/series.py\u001b[0m in \u001b[0;36mreplace\u001b[0;34m(self, to_replace, value, inplace, limit, regex, method)\u001b[0m\n\u001b[1;32m   5378\u001b[0m         \u001b[0mmethod\u001b[0m\u001b[0;34m:\u001b[0m \u001b[0mLiteral\u001b[0m\u001b[0;34m[\u001b[0m\u001b[0;34m\"pad\"\u001b[0m\u001b[0;34m,\u001b[0m \u001b[0;34m\"ffill\"\u001b[0m\u001b[0;34m,\u001b[0m \u001b[0;34m\"bfill\"\u001b[0m\u001b[0;34m]\u001b[0m \u001b[0;34m|\u001b[0m \u001b[0mlib\u001b[0m\u001b[0;34m.\u001b[0m\u001b[0mNoDefault\u001b[0m \u001b[0;34m=\u001b[0m \u001b[0mlib\u001b[0m\u001b[0;34m.\u001b[0m\u001b[0mno_default\u001b[0m\u001b[0;34m,\u001b[0m\u001b[0;34m\u001b[0m\u001b[0;34m\u001b[0m\u001b[0m\n\u001b[1;32m   5379\u001b[0m     ) -> Series | None:\n\u001b[0;32m-> 5380\u001b[0;31m         return super().replace(\n\u001b[0m\u001b[1;32m   5381\u001b[0m             \u001b[0mto_replace\u001b[0m\u001b[0;34m=\u001b[0m\u001b[0mto_replace\u001b[0m\u001b[0;34m,\u001b[0m\u001b[0;34m\u001b[0m\u001b[0;34m\u001b[0m\u001b[0m\n\u001b[1;32m   5382\u001b[0m             \u001b[0mvalue\u001b[0m\u001b[0;34m=\u001b[0m\u001b[0mvalue\u001b[0m\u001b[0;34m,\u001b[0m\u001b[0;34m\u001b[0m\u001b[0;34m\u001b[0m\u001b[0m\n",
            "\u001b[0;32m/usr/local/lib/python3.10/dist-packages/pandas/util/_decorators.py\u001b[0m in \u001b[0;36mwrapper\u001b[0;34m(*args, **kwargs)\u001b[0m\n\u001b[1;32m    329\u001b[0m                     \u001b[0mstacklevel\u001b[0m\u001b[0;34m=\u001b[0m\u001b[0mfind_stack_level\u001b[0m\u001b[0;34m(\u001b[0m\u001b[0;34m)\u001b[0m\u001b[0;34m,\u001b[0m\u001b[0;34m\u001b[0m\u001b[0;34m\u001b[0m\u001b[0m\n\u001b[1;32m    330\u001b[0m                 )\n\u001b[0;32m--> 331\u001b[0;31m             \u001b[0;32mreturn\u001b[0m \u001b[0mfunc\u001b[0m\u001b[0;34m(\u001b[0m\u001b[0;34m*\u001b[0m\u001b[0margs\u001b[0m\u001b[0;34m,\u001b[0m \u001b[0;34m**\u001b[0m\u001b[0mkwargs\u001b[0m\u001b[0;34m)\u001b[0m\u001b[0;34m\u001b[0m\u001b[0;34m\u001b[0m\u001b[0m\n\u001b[0m\u001b[1;32m    332\u001b[0m \u001b[0;34m\u001b[0m\u001b[0m\n\u001b[1;32m    333\u001b[0m         \u001b[0;31m# error: \"Callable[[VarArg(Any), KwArg(Any)], Any]\" has no\u001b[0m\u001b[0;34m\u001b[0m\u001b[0;34m\u001b[0m\u001b[0m\n",
            "\u001b[0;32m/usr/local/lib/python3.10/dist-packages/pandas/core/generic.py\u001b[0m in \u001b[0;36mreplace\u001b[0;34m(self, to_replace, value, inplace, limit, regex, method)\u001b[0m\n\u001b[1;32m   7278\u001b[0m                         )\n\u001b[1;32m   7279\u001b[0m                     \u001b[0;32melse\u001b[0m\u001b[0;34m:\u001b[0m\u001b[0;34m\u001b[0m\u001b[0;34m\u001b[0m\u001b[0m\n\u001b[0;32m-> 7280\u001b[0;31m                         new_data = self._mgr.replace(\n\u001b[0m\u001b[1;32m   7281\u001b[0m                             \u001b[0mto_replace\u001b[0m\u001b[0;34m=\u001b[0m\u001b[0mto_replace\u001b[0m\u001b[0;34m,\u001b[0m \u001b[0mvalue\u001b[0m\u001b[0;34m=\u001b[0m\u001b[0mvalue\u001b[0m\u001b[0;34m,\u001b[0m \u001b[0minplace\u001b[0m\u001b[0;34m=\u001b[0m\u001b[0minplace\u001b[0m\u001b[0;34m\u001b[0m\u001b[0;34m\u001b[0m\u001b[0m\n\u001b[1;32m   7282\u001b[0m                         )\n",
            "\u001b[0;32m/usr/local/lib/python3.10/dist-packages/pandas/core/internals/managers.py\u001b[0m in \u001b[0;36mreplace\u001b[0;34m(self, to_replace, value, inplace)\u001b[0m\n\u001b[1;32m    468\u001b[0m         \u001b[0;32massert\u001b[0m \u001b[0;32mnot\u001b[0m \u001b[0mis_list_like\u001b[0m\u001b[0;34m(\u001b[0m\u001b[0mto_replace\u001b[0m\u001b[0;34m)\u001b[0m\u001b[0;34m\u001b[0m\u001b[0;34m\u001b[0m\u001b[0m\n\u001b[1;32m    469\u001b[0m         \u001b[0;32massert\u001b[0m \u001b[0;32mnot\u001b[0m \u001b[0mis_list_like\u001b[0m\u001b[0;34m(\u001b[0m\u001b[0mvalue\u001b[0m\u001b[0;34m)\u001b[0m\u001b[0;34m\u001b[0m\u001b[0;34m\u001b[0m\u001b[0m\n\u001b[0;32m--> 470\u001b[0;31m         return self.apply(\n\u001b[0m\u001b[1;32m    471\u001b[0m             \u001b[0;34m\"replace\"\u001b[0m\u001b[0;34m,\u001b[0m \u001b[0mto_replace\u001b[0m\u001b[0;34m=\u001b[0m\u001b[0mto_replace\u001b[0m\u001b[0;34m,\u001b[0m \u001b[0mvalue\u001b[0m\u001b[0;34m=\u001b[0m\u001b[0mvalue\u001b[0m\u001b[0;34m,\u001b[0m \u001b[0minplace\u001b[0m\u001b[0;34m=\u001b[0m\u001b[0minplace\u001b[0m\u001b[0;34m\u001b[0m\u001b[0;34m\u001b[0m\u001b[0m\n\u001b[1;32m    472\u001b[0m         )\n",
            "\u001b[0;32m/usr/local/lib/python3.10/dist-packages/pandas/core/internals/managers.py\u001b[0m in \u001b[0;36mapply\u001b[0;34m(self, f, align_keys, ignore_failures, **kwargs)\u001b[0m\n\u001b[1;32m    350\u001b[0m                     \u001b[0mapplied\u001b[0m \u001b[0;34m=\u001b[0m \u001b[0mb\u001b[0m\u001b[0;34m.\u001b[0m\u001b[0mapply\u001b[0m\u001b[0;34m(\u001b[0m\u001b[0mf\u001b[0m\u001b[0;34m,\u001b[0m \u001b[0;34m**\u001b[0m\u001b[0mkwargs\u001b[0m\u001b[0;34m)\u001b[0m\u001b[0;34m\u001b[0m\u001b[0;34m\u001b[0m\u001b[0m\n\u001b[1;32m    351\u001b[0m                 \u001b[0;32melse\u001b[0m\u001b[0;34m:\u001b[0m\u001b[0;34m\u001b[0m\u001b[0;34m\u001b[0m\u001b[0m\n\u001b[0;32m--> 352\u001b[0;31m                     \u001b[0mapplied\u001b[0m \u001b[0;34m=\u001b[0m \u001b[0mgetattr\u001b[0m\u001b[0;34m(\u001b[0m\u001b[0mb\u001b[0m\u001b[0;34m,\u001b[0m \u001b[0mf\u001b[0m\u001b[0;34m)\u001b[0m\u001b[0;34m(\u001b[0m\u001b[0;34m**\u001b[0m\u001b[0mkwargs\u001b[0m\u001b[0;34m)\u001b[0m\u001b[0;34m\u001b[0m\u001b[0;34m\u001b[0m\u001b[0m\n\u001b[0m\u001b[1;32m    353\u001b[0m             \u001b[0;32mexcept\u001b[0m \u001b[0;34m(\u001b[0m\u001b[0mTypeError\u001b[0m\u001b[0;34m,\u001b[0m \u001b[0mNotImplementedError\u001b[0m\u001b[0;34m)\u001b[0m\u001b[0;34m:\u001b[0m\u001b[0;34m\u001b[0m\u001b[0;34m\u001b[0m\u001b[0m\n\u001b[1;32m    354\u001b[0m                 \u001b[0;32mif\u001b[0m \u001b[0;32mnot\u001b[0m \u001b[0mignore_failures\u001b[0m\u001b[0;34m:\u001b[0m\u001b[0;34m\u001b[0m\u001b[0;34m\u001b[0m\u001b[0m\n",
            "\u001b[0;32m/usr/local/lib/python3.10/dist-packages/pandas/core/internals/blocks.py\u001b[0m in \u001b[0;36mreplace\u001b[0;34m(self, to_replace, value, inplace, mask)\u001b[0m\n\u001b[1;32m    612\u001b[0m             \u001b[0;32melse\u001b[0m\u001b[0;34m:\u001b[0m\u001b[0;34m\u001b[0m\u001b[0;34m\u001b[0m\u001b[0m\n\u001b[1;32m    613\u001b[0m                 \u001b[0mblk\u001b[0m \u001b[0;34m=\u001b[0m \u001b[0mself\u001b[0m\u001b[0;34m.\u001b[0m\u001b[0mcoerce_to_target_dtype\u001b[0m\u001b[0;34m(\u001b[0m\u001b[0mvalue\u001b[0m\u001b[0;34m)\u001b[0m\u001b[0;34m\u001b[0m\u001b[0;34m\u001b[0m\u001b[0m\n\u001b[0;32m--> 614\u001b[0;31m             return blk.replace(\n\u001b[0m\u001b[1;32m    615\u001b[0m                 \u001b[0mto_replace\u001b[0m\u001b[0;34m=\u001b[0m\u001b[0mto_replace\u001b[0m\u001b[0;34m,\u001b[0m\u001b[0;34m\u001b[0m\u001b[0;34m\u001b[0m\u001b[0m\n\u001b[1;32m    616\u001b[0m                 \u001b[0mvalue\u001b[0m\u001b[0;34m=\u001b[0m\u001b[0mvalue\u001b[0m\u001b[0;34m,\u001b[0m\u001b[0;34m\u001b[0m\u001b[0;34m\u001b[0m\u001b[0m\n",
            "... last 1 frames repeated, from the frame below ...\n",
            "\u001b[0;32m/usr/local/lib/python3.10/dist-packages/pandas/core/internals/blocks.py\u001b[0m in \u001b[0;36mreplace\u001b[0;34m(self, to_replace, value, inplace, mask)\u001b[0m\n\u001b[1;32m    612\u001b[0m             \u001b[0;32melse\u001b[0m\u001b[0;34m:\u001b[0m\u001b[0;34m\u001b[0m\u001b[0;34m\u001b[0m\u001b[0m\n\u001b[1;32m    613\u001b[0m                 \u001b[0mblk\u001b[0m \u001b[0;34m=\u001b[0m \u001b[0mself\u001b[0m\u001b[0;34m.\u001b[0m\u001b[0mcoerce_to_target_dtype\u001b[0m\u001b[0;34m(\u001b[0m\u001b[0mvalue\u001b[0m\u001b[0;34m)\u001b[0m\u001b[0;34m\u001b[0m\u001b[0;34m\u001b[0m\u001b[0m\n\u001b[0;32m--> 614\u001b[0;31m             return blk.replace(\n\u001b[0m\u001b[1;32m    615\u001b[0m                 \u001b[0mto_replace\u001b[0m\u001b[0;34m=\u001b[0m\u001b[0mto_replace\u001b[0m\u001b[0;34m,\u001b[0m\u001b[0;34m\u001b[0m\u001b[0;34m\u001b[0m\u001b[0m\n\u001b[1;32m    616\u001b[0m                 \u001b[0mvalue\u001b[0m\u001b[0;34m=\u001b[0m\u001b[0mvalue\u001b[0m\u001b[0;34m,\u001b[0m\u001b[0;34m\u001b[0m\u001b[0;34m\u001b[0m\u001b[0m\n",
            "\u001b[0;31mRecursionError\u001b[0m: maximum recursion depth exceeded while calling a Python object"
          ]
        }
      ],
      "source": [
        "# Substituir todos os valores 1969 por valores ausentes (NaN)\n",
        "df['birth_year'] = df['birth_year'].replace(1969, pd.NA)"
      ]
    },
    {
      "cell_type": "code",
      "execution_count": null,
      "metadata": {
        "id": "RiI2_0wTb6kz"
      },
      "outputs": [],
      "source": [
        "# criando uma coluna weekday\n",
        "\n",
        "df['weekday'] = df['starttime'].dt.day_name()"
      ]
    },
    {
      "cell_type": "code",
      "execution_count": null,
      "metadata": {
        "id": "ZnOVG7iSgwCv"
      },
      "outputs": [],
      "source": [
        "# criando a coluna 'weekend' indicando se a viagem ocorreu em um final de semana\n",
        "\n",
        "# 5 e 6 representam sábado e domingo\n",
        "df['weekend'] = df['starttime'].dt.dayofweek.isin([5, 6])"
      ]
    },
    {
      "cell_type": "code",
      "execution_count": null,
      "metadata": {
        "id": "RmWl0L-__DRu"
      },
      "outputs": [],
      "source": [
        "# visualizando as alterações\n",
        "\n",
        "df.head()"
      ]
    },
    {
      "cell_type": "markdown",
      "metadata": {
        "id": "tTFfhe7T_DRv"
      },
      "source": [
        "### Estações removidas"
      ]
    },
    {
      "cell_type": "code",
      "execution_count": null,
      "metadata": {
        "id": "ZC8X4Eyd_DRw"
      },
      "outputs": [],
      "source": [
        "# algumas estações possuem coordenadas estranhas. Optamos por removê-las, visto que são poucas linhas.\n",
        "\n",
        "# lista das estações que iremos remover\n",
        "stations_to_remove = [\"WS Don't Use\", \"8D Mobile 01\", \"8D QC Station 01\", \"JSQ Don't Use\"]\n",
        "\n",
        "# removendo as linhas que contenham essas estações\n",
        "df = df[~df['start_station_name'].isin(stations_to_remove)]"
      ]
    },
    {
      "cell_type": "markdown",
      "metadata": {
        "id": "6y6C1jzH_DRz"
      },
      "source": [
        "# Análise exploratória de dados (EDA)"
      ]
    },
    {
      "cell_type": "markdown",
      "metadata": {
        "id": "pKy4u_ew_DR0"
      },
      "source": [
        "## Localização geográfica das Estações do Citi Bike"
      ]
    },
    {
      "cell_type": "code",
      "execution_count": null,
      "metadata": {
        "id": "Vh3FhN1M_DR1"
      },
      "outputs": [],
      "source": [
        "import plotly.express as px\n",
        "\n",
        "# Criar um DataFrame com as coordenadas únicas de cada estação\n",
        "unique_locations = df[['start_station_name', 'start_station_latitude', 'start_station_longitude']].drop_duplicates()\n",
        "\n",
        "# Plotar o mapa usando Plotly Express com scatter_mapbox\n",
        "fig = px.scatter_mapbox(\n",
        "    unique_locations,\n",
        "    lat='start_station_latitude',\n",
        "    lon='start_station_longitude',\n",
        "    text='start_station_name',\n",
        "    hover_name='start_station_name',\n",
        "    mapbox_style='carto-positron',  # Estilo do mapa, você pode escolher outros estilos\n",
        ")\n",
        "\n",
        "# Definir o centro do mapa e o nível de zoom\n",
        "center_lat = unique_locations['start_station_latitude'].mean()\n",
        "center_lon = unique_locations['start_station_longitude'].mean()\n",
        "zoom_level = 10\n",
        "\n",
        "fig.update_layout(\n",
        "    mapbox={\n",
        "        'center': {'lat': center_lat, 'lon': center_lon},\n",
        "        'zoom': zoom_level\n",
        "    }\n",
        ")\n",
        "\n",
        "# Ajustar as margens internas para remover as bordas brancas\n",
        "fig.update_layout(margin={\"r\":0,\"t\":0,\"l\":0,\"b\":0})\n",
        "\n",
        "# Exibir o mapa\n",
        "fig.show()\n"
      ]
    },
    {
      "cell_type": "markdown",
      "metadata": {
        "id": "w8Q-_8PZ_DR4"
      },
      "source": [
        "## Estações mais populares e possíveis relações"
      ]
    },
    {
      "cell_type": "code",
      "execution_count": null,
      "metadata": {
        "id": "PsrTWog1_DR5"
      },
      "outputs": [],
      "source": [
        "# contagem das estações mais populares\n",
        "popular_stations = df['start_station_name'].value_counts().head(10)\n",
        "\n",
        "# plotando um gráfico de barras para as estações mais populares\n",
        "plt.figure(figsize=(10, 6))\n",
        "popular_stations.plot(kind='bar', color='skyblue')\n",
        "plt.title('Top 10 Estações Mais Populares')\n",
        "plt.xlabel('Estação')\n",
        "plt.ylabel('Contagem')\n",
        "plt.xticks(rotation=45)\n",
        "plt.tight_layout()\n",
        "plt.show()"
      ]
    },
    {
      "cell_type": "code",
      "execution_count": null,
      "metadata": {
        "id": "MkjMFGO1_DR7"
      },
      "outputs": [],
      "source": [
        "# calculando o volume de viagens por estação\n",
        "station_trip_volume = df['start_station_name'].value_counts()\n",
        "\n",
        "# criando um df com as informações das estações únicas e suas coordenadas\n",
        "unique_locations = df[['start_station_name', 'start_station_latitude', 'start_station_longitude']].drop_duplicates()\n",
        "\n",
        "# criando um df com as informações das estações e seus volumes de viagens\n",
        "station_data = pd.DataFrame({\n",
        "    'start_station_name': station_trip_volume.index,\n",
        "    'trip_volume': station_trip_volume.values\n",
        "})\n",
        "\n",
        "# merge entre os dfs\n",
        "unique_locations = unique_locations.merge(station_data, on='start_station_name')\n",
        "\n",
        "# plotandi o mapa usando Plotly Express com scatter_mapbox\n",
        "fig = px.scatter_mapbox(\n",
        "    unique_locations,\n",
        "    lat='start_station_latitude',\n",
        "    lon='start_station_longitude',\n",
        "    text='start_station_name',\n",
        "    hover_name='start_station_name',\n",
        "    size='trip_volume',  # tamanho proporcional ao volume de viagens\n",
        "    size_max=50,  # tamanho máximo do ponto\n",
        "    color='trip_volume',  # escala de cores de acordo com o volume de viagens\n",
        "    color_continuous_scale='RdBu_r',  # esquema de cores\n",
        "    mapbox_style='carto-positron',  # estilo do mapa\n",
        ")\n",
        "\n",
        "# definindo o centro do mapa e o nível de zoom\n",
        "center_lat = unique_locations['start_station_latitude'].mean()\n",
        "center_lon = unique_locations['start_station_longitude'].mean()\n",
        "zoom_level = 10\n",
        "\n",
        "fig.update_layout(\n",
        "    mapbox={\n",
        "        'center': {'lat': center_lat, 'lon': center_lon},\n",
        "        'zoom': zoom_level\n",
        "    }\n",
        ")\n",
        "\n",
        "# ajusantado as margens internas para remover as bordas brancas\n",
        "fig.update_layout(margin={\"r\":0,\"t\":0,\"l\":0,\"b\":0})\n",
        "\n",
        "# exibindo o mapa\n",
        "fig.show()"
      ]
    },
    {
      "cell_type": "markdown",
      "metadata": {
        "id": "60yF0GZF_DR-"
      },
      "source": [
        "### Relações entre as estações mais populares"
      ]
    },
    {
      "cell_type": "code",
      "execution_count": null,
      "metadata": {
        "id": "xBBmQ23y_DST"
      },
      "outputs": [],
      "source": [
        "# nomes das estações mais populares\n",
        "popular_stations = ['Pershing Square North', 'E 17 St & Broadway', 'W 21 St & 6 Ave', 'Broadway & E 22 St', 'West St & Chambers St', 'Broadway & E 14 St', '8 Ave & W 33 St', '8 Ave & W 31 St', '12 Ave & W 40 St', 'W 20 St & 11 Ave']\n",
        "\n",
        "# filtrando o DataFrame para incluir apenas as estações mais populares\n",
        "filtered_df = df[df['start_station_name'].isin(popular_stations)]"
      ]
    },
    {
      "cell_type": "code",
      "execution_count": null,
      "metadata": {
        "id": "OZsIQz1X_DSU"
      },
      "outputs": [],
      "source": [
        "# criando uma coluna para representar as combinações de estações de origem e destino\n",
        "filtered_df['station_combination'] = filtered_df['start_station_name'] + ' -> ' + filtered_df['end_station_name']\n",
        "\n",
        "# calculando o número de viagens para cada combinação de estações\n",
        "station_combination_counts = filtered_df['station_combination'].value_counts().reset_index()\n",
        "station_combination_counts.columns = ['Combinação de Estações', 'Número de Viagens']\n",
        "\n",
        "# ordenando as combinações de estações pelo número de viagens\n",
        "station_combination_counts = station_combination_counts.sort_values(by='Número de Viagens', ascending=False)\n",
        "\n",
        "# plotando um gráfico de barras para mostrar as combinações de estações com mais viagens\n",
        "plt.figure(figsize=(12, 8))\n",
        "sns.barplot(data=station_combination_counts.head(10), x='Número de Viagens', y='Combinação de Estações')\n",
        "plt.title('Estações populares com mais viagens entre si')\n",
        "plt.xlabel('Número de Viagens')\n",
        "plt.ylabel('Combinação de Estações')\n",
        "plt.xticks(rotation=45, ha='right')  # Rotacionar os rótulos do eixo x para melhor visualização\n",
        "plt.tight_layout()\n",
        "plt.show()"
      ]
    },
    {
      "cell_type": "markdown",
      "metadata": {
        "id": "w5XriXP1_DSW"
      },
      "source": [
        "### Conexão espacial entre as estações populares com mais viagens entre si"
      ]
    },
    {
      "cell_type": "code",
      "execution_count": null,
      "metadata": {
        "scrolled": false,
        "id": "dUb0Xm1z_DSX"
      },
      "outputs": [],
      "source": [
        "# obtendo os nomes das estações e suas coordenadas a partir das colunas do gráfico\n",
        "station_coordinates = {}\n",
        "for index, row in station_combination_counts.head(10).iterrows():\n",
        "    combination = row['Combinação de Estações'].split(' -> ')\n",
        "    start_station = combination[0]\n",
        "    end_station = combination[1]\n",
        "\n",
        "    # obtendo as coordenadas das estações a partir do DataFrame original\n",
        "    start_coordinates = df[df['start_station_name'] == start_station][['start_station_latitude', 'start_station_longitude']].iloc[0]\n",
        "    end_coordinates = df[df['end_station_name'] == end_station][['end_station_latitude', 'end_station_longitude']].iloc[0]\n",
        "\n",
        "    station_coordinates[(start_station, end_station)] = [start_coordinates.tolist(), end_coordinates.tolist()]\n",
        "\n",
        "# criando um mapa Folium\n",
        "m = folium.Map(location=[40.7128, -74.0060], zoom_start=12)\n",
        "\n",
        "# adicionando marcadores para todas as estações\n",
        "for stations, coordinates in station_coordinates.items():\n",
        "    for station, coord in zip(stations, coordinates):\n",
        "        folium.Marker(\n",
        "            location=coord,\n",
        "            popup=station\n",
        "        ).add_to(m)\n",
        "\n",
        "# adicionando linhas de conexão para as estações de cada coluna\n",
        "for stations, coordinates in station_coordinates.items():\n",
        "    description = f\"Conexão entre {stations[0]} e {stations[1]}\"\n",
        "    folium.PolyLine(coordinates, color=\"blue\", popup=description).add_to(m)\n",
        "\n",
        "# exibindo o mapa interativo\n",
        "m"
      ]
    },
    {
      "cell_type": "markdown",
      "metadata": {
        "id": "QFkYKYD4_DSZ"
      },
      "source": [
        "lembrar de interpretar as conexão acima.\n",
        "Pershing Square North parece importante por se conectar com várias, e 12 Ave & W 40 St por se conectar com estações distantes"
      ]
    },
    {
      "cell_type": "markdown",
      "metadata": {
        "id": "NhVVmNcKLOAr"
      },
      "source": [
        "## Distribuição do uso de bicicletas ao longo da semana"
      ]
    },
    {
      "cell_type": "code",
      "execution_count": null,
      "metadata": {
        "id": "LlSm4V44Lqx3"
      },
      "outputs": [],
      "source": [
        "uso_semanal = df.groupby('weekday').size()    # Agrupa os dados nos dias da semana e nos da a frequencia de ocorrencia por dia\n",
        "uso_semanal = uso_semanal.reindex(['Monday', 'Tuesday', 'Wednesday', 'Thursday', 'Friday', 'Saturday', 'Sunday'])   # organiza os dados\n",
        "\n",
        "uso_semanal"
      ]
    },
    {
      "cell_type": "code",
      "execution_count": null,
      "metadata": {
        "id": "uiufko_t4hdo"
      },
      "outputs": [],
      "source": [
        "# criando o gráfico de barras e verificando dia com maior frequencia\n",
        "\n",
        "plt.figure(figsize=(8, 6))\n",
        "sns.set_style(\"whitegrid\")\n",
        "sns.barplot(x=uso_semanal.index, y=uso_semanal.values, color='blue')\n",
        "plt.xlabel('Dias da semana', fontsize=12)\n",
        "plt.ylabel('Frequência', fontsize=12)\n",
        "plt.title('Uso das bicicletas por dia da semana', weight='bold')\n",
        "plt.xticks(rotation=45)\n",
        "plt.show()"
      ]
    },
    {
      "cell_type": "code",
      "execution_count": null,
      "metadata": {
        "id": "GrI2uyBU_DSf"
      },
      "outputs": [],
      "source": [
        "# contando o número de viagens em dias de semana e finais de semana\n",
        "usage_by_weekend = df.groupby('weekend')['weekend'].count()\n",
        "\n",
        "# plotando um gráfico de barras\n",
        "plt.figure(figsize=(8, 6))\n",
        "usage_by_weekend.plot(kind='bar', color=['blue', 'green'])\n",
        "plt.title('Uso de bicicletas em dias de semana vs. finais de semana')\n",
        "plt.xlabel('Tipo de Dia')\n",
        "plt.ylabel('Número de Viagens')\n",
        "plt.xticks(ticks=[0, 1], labels=['Dias de Semana', 'Finais de Semana'], rotation=0)\n",
        "plt.tight_layout()\n",
        "plt.show()"
      ]
    },
    {
      "cell_type": "markdown",
      "metadata": {
        "id": "NlklFKos_DSg"
      },
      "source": [
        "## Existe variação por estação?"
      ]
    },
    {
      "cell_type": "code",
      "execution_count": null,
      "metadata": {
        "id": "pViO4GgN_DSi"
      },
      "outputs": [],
      "source": [
        "# criando colunas de mês e ano\n",
        "df['month'] = df['starttime'].dt.month\n",
        "df['year'] = df['starttime'].dt.year\n",
        "\n",
        "# definindo os intervalos de meses para cada estação do ano\n",
        "spring_months = [3, 4, 5]\n",
        "summer_months = [6, 7, 8]\n",
        "fall_months = [9, 10, 11]\n",
        "winter_months = [12, 1, 2]\n",
        "\n",
        "# função para mapear o mês para a estação do ano\n",
        "def map_season(month):\n",
        "    if month in spring_months:\n",
        "        return 'Spring'\n",
        "    elif month in summer_months:\n",
        "        return 'Summer'\n",
        "    elif month in fall_months:\n",
        "        return 'Fall'\n",
        "    else:\n",
        "        return 'Winter'\n",
        "\n",
        "# aplicando a função para criar a coluna 'season'\n",
        "df['season'] = df['month'].apply(map_season)\n",
        "\n",
        "# filtrando apenas as estações populares\n",
        "df_popular = df[df['start_station_name'].isin(popular_stations)]\n",
        "\n",
        "# agrupando e contando de viagens por estação do ano e estação\n",
        "station_season_counts = df_popular.groupby(['season', 'start_station_name']).size().reset_index(name='Number of Trips')\n",
        "\n",
        "# criando um gráfico de linha para cada estação\n",
        "plt.figure(figsize=(12, 8))\n",
        "\n",
        "for station in popular_stations:\n",
        "    station_data = station_season_counts[station_season_counts['start_station_name'] == station]\n",
        "    plt.plot(station_data['season'], station_data['Number of Trips'], label=station)\n",
        "\n",
        "plt.title('Variação do uso de bicicletas por estação do ano em Nova York')\n",
        "plt.xlabel('Estação do Ano')\n",
        "plt.ylabel('Número de Viagens')\n",
        "plt.legend()\n",
        "plt.tight_layout()\n",
        "plt.show()"
      ]
    },
    {
      "cell_type": "markdown",
      "metadata": {
        "id": "S7dFNC_yMP58"
      },
      "source": [
        "## Rotas mais Populares (Origem - Destino) e seus Destaques:"
      ]
    },
    {
      "cell_type": "code",
      "execution_count": null,
      "metadata": {
        "id": "4HnxkJ6uNWFq"
      },
      "outputs": [],
      "source": [
        "# criando nova coluna das rotas baseadas nos ID's das estações\n",
        "\n",
        "df['Routes'] = df['start_station_name'] + ' - \\n ' + df['end_station_name']\n",
        "\n",
        "popular_routes = df.groupby('Routes').size().reset_index(name='Frequency')   # agrupa dados por rotas e cria coluna com frequencias\n",
        "\n",
        "popular_routes = popular_routes.sort_values(by='Frequency', ascending=False)    # Organizando valores de maneira Decrescente"
      ]
    },
    {
      "cell_type": "code",
      "execution_count": null,
      "metadata": {
        "id": "KaM9_lVR5xsl"
      },
      "outputs": [],
      "source": [
        "# visualizando as rotas mais populares\n",
        "\n",
        "popular_routes"
      ]
    },
    {
      "cell_type": "code",
      "execution_count": null,
      "metadata": {
        "id": "jJ2EI3YHMc4f",
        "scrolled": false
      },
      "outputs": [],
      "source": [
        "# selecionando as 5 rotas mais populares\n",
        "\n",
        "top_5 = popular_routes.head(5)\n",
        "\n",
        "font = {'family': 'sans-serif',\n",
        "        'color':  'black',\n",
        "        'weight': 'normal',\n",
        "        'size': 16,\n",
        "        }\n",
        "\n",
        "# Criar um gráfico de barras usando Seaborn\n",
        "plt.figure(figsize=(10,6))\n",
        "sns.barplot(data=top_5, x='Frequency', y='Routes')\n",
        "plt.xlabel('Frequency', fontdict=font)\n",
        "plt.ylabel('Routes (Star Point - End Point)',  fontdict=font)\n",
        "plt.title('Top 5 Popular Routes', weight='bold', fontdict=font)\n",
        "plt.yticks(rotation=45)\n",
        "\n",
        "\n",
        "plt.tight_layout()\n",
        "plt.show()\n"
      ]
    },
    {
      "cell_type": "markdown",
      "metadata": {
        "id": "qXjO48on_DSp"
      },
      "source": [
        "## Verificando a proporção por gênero"
      ]
    },
    {
      "cell_type": "code",
      "execution_count": null,
      "metadata": {
        "id": "ycdvXeP7_DSq"
      },
      "outputs": [],
      "source": [
        "# podemos ver quantos são homens(1), mulheres(2) e desconhecidos(0)\n",
        "\n",
        "df['gender'].value_counts()"
      ]
    },
    {
      "cell_type": "code",
      "execution_count": null,
      "metadata": {
        "id": "cAjMMKgT_DSr"
      },
      "outputs": [],
      "source": [
        "# agrupando os dados por gênero e contar o número de ocorrências\n",
        "gender_counts = df['gender'].value_counts()\n",
        "\n",
        "# calculando a proporção de cada gênero em relação ao total\n",
        "total_users = gender_counts.sum()\n",
        "gender_proportions = gender_counts / total_users\n",
        "\n",
        "# criando um gráfico de barras para mostrar as proporções\n",
        "labels = ['Desconhecido', 'Homens', 'Mulheres']\n",
        "colors = ['gray', 'blue', 'pink']\n",
        "\n",
        "plt.figure(figsize=(8, 6))\n",
        "plt.bar(labels, gender_proportions, color=colors)\n",
        "plt.title('Proporção de Gênero que Utiliza Bicicletas')\n",
        "plt.xlabel('Gênero')\n",
        "plt.ylabel('Proporção')\n",
        "plt.show()\n"
      ]
    },
    {
      "cell_type": "markdown",
      "metadata": {
        "id": "76aO16j4_DSt"
      },
      "source": [
        "## Distribuição por horários"
      ]
    },
    {
      "cell_type": "code",
      "execution_count": null,
      "metadata": {
        "scrolled": true,
        "id": "iXKpcafe_DSu"
      },
      "outputs": [],
      "source": [
        "# extraindo a hora de início da viagem\n",
        "df['start_hour'] = df['starttime'].dt.hour\n",
        "\n",
        "# calculando a distribuição das viagens ao longo das horas do dia em dias úteis (weekday) e fins de semana (weekend)\n",
        "hourly_distribution_weekday = df[df['weekend'] == False]['start_hour'].value_counts(normalize=True).sort_index()\n",
        "hourly_distribution_weekend = df[df['weekend'] == True]['start_hour'].value_counts(normalize=True).sort_index()\n",
        "\n",
        "# criando um gráfico de linha para mostrar a distribuição ao longo das horas\n",
        "plt.figure(figsize=(10, 6))\n",
        "plt.plot(hourly_distribution_weekday.index, hourly_distribution_weekday.values, label='Dias Úteis')\n",
        "plt.plot(hourly_distribution_weekend.index, hourly_distribution_weekend.values, label='Fins de Semana')\n",
        "plt.title('Distribuição do uso de bicicletas por horário')\n",
        "plt.xlabel('Hora do Dia')\n",
        "plt.ylabel('Proporção de Viagens')\n",
        "plt.xticks(range(24))\n",
        "plt.legend()\n",
        "plt.grid(True)\n",
        "plt.show()\n"
      ]
    },
    {
      "cell_type": "markdown",
      "metadata": {
        "id": "5TwLLjTQ_DSw"
      },
      "source": [
        "## Duração média das viagens por classes"
      ]
    },
    {
      "cell_type": "code",
      "execution_count": null,
      "metadata": {
        "scrolled": true,
        "id": "ETRXE6gO_DSx"
      },
      "outputs": [],
      "source": [
        "# verificando a duração média das viagens\n",
        "\n",
        "df['tripduration_bins'] = pd.cut(df['tripduration_min'], [0, 30, 60, 120])\n",
        "\n",
        "sns.barplot(x='tripduration_bins', y='tripduration_min', data=df, estimator=np.size)\n",
        "plt.title('Duração mais comum das viagens', fontsize=20)\n",
        "plt.xlabel('Classes', fontsize=20)\n",
        "plt.ylabel('Duração', fontsize=20)\n",
        "plt.show()"
      ]
    },
    {
      "cell_type": "markdown",
      "metadata": {
        "id": "XhHXVpaZ_DSy"
      },
      "source": [
        "## Perfil de assinatura do serviço"
      ]
    },
    {
      "cell_type": "code",
      "execution_count": null,
      "metadata": {
        "scrolled": true,
        "id": "vLCr3uha_DSz"
      },
      "outputs": [],
      "source": [
        "# verificando se o serviço é mais utilizado por assinantes de longo prazo ou curto prazo\n",
        "\n",
        "user_type_count = df['usertype'].value_counts()\n",
        "plt.pie(user_type_count.values, labels=user_type_count.index ,autopct='%1.2f%%', textprops={'fontsize': 15} )\n",
        "plt.title('Subscribers vs Customers', fontsize=20)\n",
        "plt.show()"
      ]
    },
    {
      "cell_type": "markdown",
      "metadata": {
        "id": "tA7FCOOs_DS1"
      },
      "source": [
        "## Distribuição do uso por idade e gênero"
      ]
    },
    {
      "cell_type": "code",
      "execution_count": null,
      "metadata": {
        "id": "KqJ0iBXR_DS2"
      },
      "outputs": [],
      "source": [
        "# verificando qual o perfil de idade e uso de cada gênero\n",
        "\n",
        "gender_mapping = {0: 'Desconhecido', 1: 'Homem', 2: 'Mulher'}\n",
        "df['gender'] = df['gender'].map(gender_mapping)\n",
        "sns.set(rc={\"figure.figsize\":(25,20)})\n",
        "sns.countplot(data=df, y = df['age'], hue='gender', dodge=True)"
      ]
    }
  ],
  "metadata": {
    "colab": {
      "provenance": [],
      "gpuType": "T4"
    },
    "kernelspec": {
      "display_name": "Python 3",
      "name": "python3"
    },
    "language_info": {
      "codemirror_mode": {
        "name": "ipython",
        "version": 3
      },
      "file_extension": ".py",
      "mimetype": "text/x-python",
      "name": "python",
      "nbconvert_exporter": "python",
      "pygments_lexer": "ipython3",
      "version": "3.9.13"
    },
    "accelerator": "GPU"
  },
  "nbformat": 4,
  "nbformat_minor": 0
}