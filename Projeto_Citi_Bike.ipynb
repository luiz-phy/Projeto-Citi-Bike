{
  "nbformat": 4,
  "nbformat_minor": 0,
  "metadata": {
    "colab": {
      "provenance": [],
      "mount_file_id": "1I7MRlcSX7htJmTCr6W4HAH5tu-uy-DuB",
      "authorship_tag": "ABX9TyOqItgtfrltaFEj6QoqT/6X"
    },
    "kernelspec": {
      "name": "python3",
      "display_name": "Python 3"
    },
    "language_info": {
      "name": "python"
    }
  },
  "cells": [
    {
      "cell_type": "markdown",
      "source": [
        "O nosso conjunto de dados é descrito da seguinte forma:\n",
        "\n",
        "|Atributo                                           |   Descrição   |\n",
        "|---------------------------------------------------|:-------------:|\n",
        "| Trip Duration                                     |   Duração da viagem em segundos |\n",
        "| Start Time                                        |   Início da viagem |\n",
        "| Stop Time                                         |   Fim da Viagem   |\n",
        "| Start Station ID                                  |   Identificado da estação origem   |\n",
        "| Start Station Name                                |   Nome da estação onde a viagem iniciou|\n",
        "| Start Station Latitude / Start Station Longitude  |   Localização onde a viagem iniciou|\n",
        "| End station id                                    |   Identificado da estação destino   |\n",
        "| End Station Name                                  |   Nome da estação onde a viagem terminou|\n",
        "| End Station Latitude / End Station Longitude      |   Localização onde a viagem terminou   |\n",
        "| Bike ID                                           |   Identificado da bicicleta  |\n",
        "| User Type                                         |   Customer = passe de 24 horas ou 3 dias; Subscriber = Membro Anual |\n",
        "| Birth Year                                        |   Ano de nascimento|\n",
        "| Gender                                            |   0 = desconhecido; 1 = masculino; 2 = feminino |"
      ],
      "metadata": {
        "id": "ktTIEhRarHCP"
      }
    },
    {
      "cell_type": "code",
      "execution_count": 1,
      "metadata": {
        "id": "jdVaLfx3hWxh"
      },
      "outputs": [],
      "source": [
        "import pandas as pd\n",
        "import matplotlib.pyplot as plt\n",
        "\n",
        "pd.set_option('display.max_columns', 100)   # Mostra todas as colunas do dataset\n"
      ]
    },
    {
      "cell_type": "code",
      "source": [
        "df = pd.read_parquet('/content/drive/MyDrive/Projeto UFRJ-Analytica/clear dados')   #carregando dados na variavel df"
      ],
      "metadata": {
        "id": "ctt8xfV_jrBm"
      },
      "execution_count": 40,
      "outputs": []
    },
    {
      "cell_type": "code",
      "source": [
        "df.head(5)"
      ],
      "metadata": {
        "colab": {
          "base_uri": "https://localhost:8080/",
          "height": 476
        },
        "id": "Q_-aiajtjq7u",
        "outputId": "8c65d660-e846-40d5-d8ec-92fcde9f0c17"
      },
      "execution_count": 41,
      "outputs": [
        {
          "output_type": "execute_result",
          "data": {
            "text/plain": [
              "   tripduration           starttime            stoptime  start station id  \\\n",
              "0         283.0  3/31/2016 09:15:31  3/31/2016 09:20:14             382.0   \n",
              "1         392.0   9/5/2016 16:43:30   9/5/2016 16:50:03            3109.0   \n",
              "2         705.0  4/17/2016 13:16:39  4/17/2016 13:28:25             354.0   \n",
              "3         535.0   5/2/2016 17:59:46   5/2/2016 18:08:42             517.0   \n",
              "4         286.0   2/6/2016 18:27:29   2/6/2016 18:32:16             490.0   \n",
              "\n",
              "         start station name  start station latitude  start station longitude  \\\n",
              "0   University Pl & E 14 St               40.734927               -73.992005   \n",
              "1  Banker St & Meserole Ave               40.726060               -73.956210   \n",
              "2   Emerson Pl & Myrtle Ave               40.693631               -73.962236   \n",
              "3     Pershing Square South               40.751581               -73.977910   \n",
              "4           8 Ave & W 33 St               40.751551               -73.993934   \n",
              "\n",
              "   end station id              end station name  end station latitude  \\\n",
              "0           491.0          E 24 St & Park Ave S             40.740964   \n",
              "1          2002.0  Wythe Ave & Metropolitan Ave             40.716887   \n",
              "2           242.0    Carlton Ave & Flushing Ave             40.697787   \n",
              "3           357.0            E 11 St & Broadway             40.732618   \n",
              "4           446.0               W 24 St & 7 Ave             40.744876   \n",
              "\n",
              "   end station longitude   bikeid    usertype  birth year  gender  \n",
              "0             -73.986022  21566.0  Subscriber     -1992.0     1.0  \n",
              "1             -73.963198  14670.0  Subscriber     -1991.0     2.0  \n",
              "2             -73.973736  21494.0  Subscriber      1979.0     1.0  \n",
              "3             -73.991580  22901.0  Subscriber      1984.0     1.0  \n",
              "4             -73.995299  21254.0  Subscriber      1981.0     1.0  "
            ],
            "text/html": [
              "\n",
              "\n",
              "  <div id=\"df-96ad8c30-2577-42eb-bd2d-adfd88ecfd03\">\n",
              "    <div class=\"colab-df-container\">\n",
              "      <div>\n",
              "<style scoped>\n",
              "    .dataframe tbody tr th:only-of-type {\n",
              "        vertical-align: middle;\n",
              "    }\n",
              "\n",
              "    .dataframe tbody tr th {\n",
              "        vertical-align: top;\n",
              "    }\n",
              "\n",
              "    .dataframe thead th {\n",
              "        text-align: right;\n",
              "    }\n",
              "</style>\n",
              "<table border=\"1\" class=\"dataframe\">\n",
              "  <thead>\n",
              "    <tr style=\"text-align: right;\">\n",
              "      <th></th>\n",
              "      <th>tripduration</th>\n",
              "      <th>starttime</th>\n",
              "      <th>stoptime</th>\n",
              "      <th>start station id</th>\n",
              "      <th>start station name</th>\n",
              "      <th>start station latitude</th>\n",
              "      <th>start station longitude</th>\n",
              "      <th>end station id</th>\n",
              "      <th>end station name</th>\n",
              "      <th>end station latitude</th>\n",
              "      <th>end station longitude</th>\n",
              "      <th>bikeid</th>\n",
              "      <th>usertype</th>\n",
              "      <th>birth year</th>\n",
              "      <th>gender</th>\n",
              "    </tr>\n",
              "  </thead>\n",
              "  <tbody>\n",
              "    <tr>\n",
              "      <th>0</th>\n",
              "      <td>283.0</td>\n",
              "      <td>3/31/2016 09:15:31</td>\n",
              "      <td>3/31/2016 09:20:14</td>\n",
              "      <td>382.0</td>\n",
              "      <td>University Pl &amp; E 14 St</td>\n",
              "      <td>40.734927</td>\n",
              "      <td>-73.992005</td>\n",
              "      <td>491.0</td>\n",
              "      <td>E 24 St &amp; Park Ave S</td>\n",
              "      <td>40.740964</td>\n",
              "      <td>-73.986022</td>\n",
              "      <td>21566.0</td>\n",
              "      <td>Subscriber</td>\n",
              "      <td>-1992.0</td>\n",
              "      <td>1.0</td>\n",
              "    </tr>\n",
              "    <tr>\n",
              "      <th>1</th>\n",
              "      <td>392.0</td>\n",
              "      <td>9/5/2016 16:43:30</td>\n",
              "      <td>9/5/2016 16:50:03</td>\n",
              "      <td>3109.0</td>\n",
              "      <td>Banker St &amp; Meserole Ave</td>\n",
              "      <td>40.726060</td>\n",
              "      <td>-73.956210</td>\n",
              "      <td>2002.0</td>\n",
              "      <td>Wythe Ave &amp; Metropolitan Ave</td>\n",
              "      <td>40.716887</td>\n",
              "      <td>-73.963198</td>\n",
              "      <td>14670.0</td>\n",
              "      <td>Subscriber</td>\n",
              "      <td>-1991.0</td>\n",
              "      <td>2.0</td>\n",
              "    </tr>\n",
              "    <tr>\n",
              "      <th>2</th>\n",
              "      <td>705.0</td>\n",
              "      <td>4/17/2016 13:16:39</td>\n",
              "      <td>4/17/2016 13:28:25</td>\n",
              "      <td>354.0</td>\n",
              "      <td>Emerson Pl &amp; Myrtle Ave</td>\n",
              "      <td>40.693631</td>\n",
              "      <td>-73.962236</td>\n",
              "      <td>242.0</td>\n",
              "      <td>Carlton Ave &amp; Flushing Ave</td>\n",
              "      <td>40.697787</td>\n",
              "      <td>-73.973736</td>\n",
              "      <td>21494.0</td>\n",
              "      <td>Subscriber</td>\n",
              "      <td>1979.0</td>\n",
              "      <td>1.0</td>\n",
              "    </tr>\n",
              "    <tr>\n",
              "      <th>3</th>\n",
              "      <td>535.0</td>\n",
              "      <td>5/2/2016 17:59:46</td>\n",
              "      <td>5/2/2016 18:08:42</td>\n",
              "      <td>517.0</td>\n",
              "      <td>Pershing Square South</td>\n",
              "      <td>40.751581</td>\n",
              "      <td>-73.977910</td>\n",
              "      <td>357.0</td>\n",
              "      <td>E 11 St &amp; Broadway</td>\n",
              "      <td>40.732618</td>\n",
              "      <td>-73.991580</td>\n",
              "      <td>22901.0</td>\n",
              "      <td>Subscriber</td>\n",
              "      <td>1984.0</td>\n",
              "      <td>1.0</td>\n",
              "    </tr>\n",
              "    <tr>\n",
              "      <th>4</th>\n",
              "      <td>286.0</td>\n",
              "      <td>2/6/2016 18:27:29</td>\n",
              "      <td>2/6/2016 18:32:16</td>\n",
              "      <td>490.0</td>\n",
              "      <td>8 Ave &amp; W 33 St</td>\n",
              "      <td>40.751551</td>\n",
              "      <td>-73.993934</td>\n",
              "      <td>446.0</td>\n",
              "      <td>W 24 St &amp; 7 Ave</td>\n",
              "      <td>40.744876</td>\n",
              "      <td>-73.995299</td>\n",
              "      <td>21254.0</td>\n",
              "      <td>Subscriber</td>\n",
              "      <td>1981.0</td>\n",
              "      <td>1.0</td>\n",
              "    </tr>\n",
              "  </tbody>\n",
              "</table>\n",
              "</div>\n",
              "      <button class=\"colab-df-convert\" onclick=\"convertToInteractive('df-96ad8c30-2577-42eb-bd2d-adfd88ecfd03')\"\n",
              "              title=\"Convert this dataframe to an interactive table.\"\n",
              "              style=\"display:none;\">\n",
              "\n",
              "  <svg xmlns=\"http://www.w3.org/2000/svg\" height=\"24px\"viewBox=\"0 0 24 24\"\n",
              "       width=\"24px\">\n",
              "    <path d=\"M0 0h24v24H0V0z\" fill=\"none\"/>\n",
              "    <path d=\"M18.56 5.44l.94 2.06.94-2.06 2.06-.94-2.06-.94-.94-2.06-.94 2.06-2.06.94zm-11 1L8.5 8.5l.94-2.06 2.06-.94-2.06-.94L8.5 2.5l-.94 2.06-2.06.94zm10 10l.94 2.06.94-2.06 2.06-.94-2.06-.94-.94-2.06-.94 2.06-2.06.94z\"/><path d=\"M17.41 7.96l-1.37-1.37c-.4-.4-.92-.59-1.43-.59-.52 0-1.04.2-1.43.59L10.3 9.45l-7.72 7.72c-.78.78-.78 2.05 0 2.83L4 21.41c.39.39.9.59 1.41.59.51 0 1.02-.2 1.41-.59l7.78-7.78 2.81-2.81c.8-.78.8-2.07 0-2.86zM5.41 20L4 18.59l7.72-7.72 1.47 1.35L5.41 20z\"/>\n",
              "  </svg>\n",
              "      </button>\n",
              "\n",
              "\n",
              "\n",
              "    <div id=\"df-9ab91d16-e4ff-4d0f-a51f-8bcd232372fd\">\n",
              "      <button class=\"colab-df-quickchart\" onclick=\"quickchart('df-9ab91d16-e4ff-4d0f-a51f-8bcd232372fd')\"\n",
              "              title=\"Suggest charts.\"\n",
              "              style=\"display:none;\">\n",
              "\n",
              "<svg xmlns=\"http://www.w3.org/2000/svg\" height=\"24px\"viewBox=\"0 0 24 24\"\n",
              "     width=\"24px\">\n",
              "    <g>\n",
              "        <path d=\"M19 3H5c-1.1 0-2 .9-2 2v14c0 1.1.9 2 2 2h14c1.1 0 2-.9 2-2V5c0-1.1-.9-2-2-2zM9 17H7v-7h2v7zm4 0h-2V7h2v10zm4 0h-2v-4h2v4z\"/>\n",
              "    </g>\n",
              "</svg>\n",
              "      </button>\n",
              "    </div>\n",
              "\n",
              "<style>\n",
              "  .colab-df-quickchart {\n",
              "    background-color: #E8F0FE;\n",
              "    border: none;\n",
              "    border-radius: 50%;\n",
              "    cursor: pointer;\n",
              "    display: none;\n",
              "    fill: #1967D2;\n",
              "    height: 32px;\n",
              "    padding: 0 0 0 0;\n",
              "    width: 32px;\n",
              "  }\n",
              "\n",
              "  .colab-df-quickchart:hover {\n",
              "    background-color: #E2EBFA;\n",
              "    box-shadow: 0px 1px 2px rgba(60, 64, 67, 0.3), 0px 1px 3px 1px rgba(60, 64, 67, 0.15);\n",
              "    fill: #174EA6;\n",
              "  }\n",
              "\n",
              "  [theme=dark] .colab-df-quickchart {\n",
              "    background-color: #3B4455;\n",
              "    fill: #D2E3FC;\n",
              "  }\n",
              "\n",
              "  [theme=dark] .colab-df-quickchart:hover {\n",
              "    background-color: #434B5C;\n",
              "    box-shadow: 0px 1px 3px 1px rgba(0, 0, 0, 0.15);\n",
              "    filter: drop-shadow(0px 1px 2px rgba(0, 0, 0, 0.3));\n",
              "    fill: #FFFFFF;\n",
              "  }\n",
              "</style>\n",
              "\n",
              "    <script>\n",
              "      async function quickchart(key) {\n",
              "        const containerElement = document.querySelector('#' + key);\n",
              "        const charts = await google.colab.kernel.invokeFunction(\n",
              "            'suggestCharts', [key], {});\n",
              "      }\n",
              "    </script>\n",
              "\n",
              "      <script>\n",
              "\n",
              "function displayQuickchartButton(domScope) {\n",
              "  let quickchartButtonEl =\n",
              "    domScope.querySelector('#df-9ab91d16-e4ff-4d0f-a51f-8bcd232372fd button.colab-df-quickchart');\n",
              "  quickchartButtonEl.style.display =\n",
              "    google.colab.kernel.accessAllowed ? 'block' : 'none';\n",
              "}\n",
              "\n",
              "        displayQuickchartButton(document);\n",
              "      </script>\n",
              "      <style>\n",
              "    .colab-df-container {\n",
              "      display:flex;\n",
              "      flex-wrap:wrap;\n",
              "      gap: 12px;\n",
              "    }\n",
              "\n",
              "    .colab-df-convert {\n",
              "      background-color: #E8F0FE;\n",
              "      border: none;\n",
              "      border-radius: 50%;\n",
              "      cursor: pointer;\n",
              "      display: none;\n",
              "      fill: #1967D2;\n",
              "      height: 32px;\n",
              "      padding: 0 0 0 0;\n",
              "      width: 32px;\n",
              "    }\n",
              "\n",
              "    .colab-df-convert:hover {\n",
              "      background-color: #E2EBFA;\n",
              "      box-shadow: 0px 1px 2px rgba(60, 64, 67, 0.3), 0px 1px 3px 1px rgba(60, 64, 67, 0.15);\n",
              "      fill: #174EA6;\n",
              "    }\n",
              "\n",
              "    [theme=dark] .colab-df-convert {\n",
              "      background-color: #3B4455;\n",
              "      fill: #D2E3FC;\n",
              "    }\n",
              "\n",
              "    [theme=dark] .colab-df-convert:hover {\n",
              "      background-color: #434B5C;\n",
              "      box-shadow: 0px 1px 3px 1px rgba(0, 0, 0, 0.15);\n",
              "      filter: drop-shadow(0px 1px 2px rgba(0, 0, 0, 0.3));\n",
              "      fill: #FFFFFF;\n",
              "    }\n",
              "  </style>\n",
              "\n",
              "      <script>\n",
              "        const buttonEl =\n",
              "          document.querySelector('#df-96ad8c30-2577-42eb-bd2d-adfd88ecfd03 button.colab-df-convert');\n",
              "        buttonEl.style.display =\n",
              "          google.colab.kernel.accessAllowed ? 'block' : 'none';\n",
              "\n",
              "        async function convertToInteractive(key) {\n",
              "          const element = document.querySelector('#df-96ad8c30-2577-42eb-bd2d-adfd88ecfd03');\n",
              "          const dataTable =\n",
              "            await google.colab.kernel.invokeFunction('convertToInteractive',\n",
              "                                                     [key], {});\n",
              "          if (!dataTable) return;\n",
              "\n",
              "          const docLinkHtml = 'Like what you see? Visit the ' +\n",
              "            '<a target=\"_blank\" href=https://colab.research.google.com/notebooks/data_table.ipynb>data table notebook</a>'\n",
              "            + ' to learn more about interactive tables.';\n",
              "          element.innerHTML = '';\n",
              "          dataTable['output_type'] = 'display_data';\n",
              "          await google.colab.output.renderOutput(dataTable, element);\n",
              "          const docLink = document.createElement('div');\n",
              "          docLink.innerHTML = docLinkHtml;\n",
              "          element.appendChild(docLink);\n",
              "        }\n",
              "      </script>\n",
              "    </div>\n",
              "  </div>\n"
            ]
          },
          "metadata": {},
          "execution_count": 41
        }
      ]
    },
    {
      "cell_type": "code",
      "source": [
        "df.shape"
      ],
      "metadata": {
        "colab": {
          "base_uri": "https://localhost:8080/"
        },
        "id": "VC9JXC8ni-Co",
        "outputId": "dc614537-9ccc-4ebb-bfe6-ed73d174f452"
      },
      "execution_count": 43,
      "outputs": [
        {
          "output_type": "execute_result",
          "data": {
            "text/plain": [
              "(4000000, 15)"
            ]
          },
          "metadata": {},
          "execution_count": 43
        }
      ]
    },
    {
      "cell_type": "markdown",
      "source": [
        "### Descartando colunas duplicadas"
      ],
      "metadata": {
        "id": "MIwY2AvAhfpl"
      }
    },
    {
      "cell_type": "code",
      "source": [
        "df.columns"
      ],
      "metadata": {
        "colab": {
          "base_uri": "https://localhost:8080/"
        },
        "id": "AvQ95v5NqIwX",
        "outputId": "0a39eb4d-d108-423a-86d0-79031527945d"
      },
      "execution_count": 44,
      "outputs": [
        {
          "output_type": "execute_result",
          "data": {
            "text/plain": [
              "Index(['tripduration', 'starttime', 'stoptime', 'start station id',\n",
              "       'start station name', 'start station latitude',\n",
              "       'start station longitude', 'end station id', 'end station name',\n",
              "       'end station latitude', 'end station longitude', 'bikeid', 'usertype',\n",
              "       'birth year', 'gender'],\n",
              "      dtype='object')"
            ]
          },
          "metadata": {},
          "execution_count": 44
        }
      ]
    },
    {
      "cell_type": "code",
      "source": [
        "\"\"\"# Fazendo cópia das colunas de interesse e descartando as duplicadas\n",
        "df = df[['tripduration', 'starttime', 'stoptime', 'start station id',\n",
        "       'start station name', 'start station latitude',\n",
        "       'start station longitude', 'end station id', 'end station name',\n",
        "       'end station latitude', 'end station longitude', 'bikeid', 'usertype',\n",
        "       'birth year', 'gender']].copy()\"\"\""
      ],
      "metadata": {
        "id": "i9BmI2cukHwu"
      },
      "execution_count": 5,
      "outputs": []
    },
    {
      "cell_type": "code",
      "source": [
        "# Renomeando colunas\n",
        "df = df.rename(columns={'start station id':'start_station_id',\n",
        "                   'start station name':'start_station_name',\n",
        "                   'start station latitude':'start_station_latitude',\n",
        "                   'start station longitude': 'start_station_longitude',\n",
        "                   'end station id':'end_station_id',\n",
        "                   'end station name':'end_station_name',\n",
        "                   'end station latitude':'end_station_latitude',\n",
        "                   'end station longitude':'end_station_longitude',\n",
        "                   'birth year': 'birth_year'})"
      ],
      "metadata": {
        "id": "LVh4TL5AkHrl"
      },
      "execution_count": 45,
      "outputs": []
    },
    {
      "cell_type": "code",
      "source": [
        "df.head(5)"
      ],
      "metadata": {
        "colab": {
          "base_uri": "https://localhost:8080/",
          "height": 357
        },
        "id": "C4VOM7T64OuN",
        "outputId": "41a2e553-d33e-498b-8358-3aff8a8b2c3c"
      },
      "execution_count": 46,
      "outputs": [
        {
          "output_type": "execute_result",
          "data": {
            "text/plain": [
              "   tripduration           starttime            stoptime  start_station_id  \\\n",
              "0         283.0  3/31/2016 09:15:31  3/31/2016 09:20:14             382.0   \n",
              "1         392.0   9/5/2016 16:43:30   9/5/2016 16:50:03            3109.0   \n",
              "2         705.0  4/17/2016 13:16:39  4/17/2016 13:28:25             354.0   \n",
              "3         535.0   5/2/2016 17:59:46   5/2/2016 18:08:42             517.0   \n",
              "4         286.0   2/6/2016 18:27:29   2/6/2016 18:32:16             490.0   \n",
              "\n",
              "         start_station_name  start_station_latitude  start_station_longitude  \\\n",
              "0   University Pl & E 14 St               40.734927               -73.992005   \n",
              "1  Banker St & Meserole Ave               40.726060               -73.956210   \n",
              "2   Emerson Pl & Myrtle Ave               40.693631               -73.962236   \n",
              "3     Pershing Square South               40.751581               -73.977910   \n",
              "4           8 Ave & W 33 St               40.751551               -73.993934   \n",
              "\n",
              "   end_station_id              end_station_name  end_station_latitude  \\\n",
              "0           491.0          E 24 St & Park Ave S             40.740964   \n",
              "1          2002.0  Wythe Ave & Metropolitan Ave             40.716887   \n",
              "2           242.0    Carlton Ave & Flushing Ave             40.697787   \n",
              "3           357.0            E 11 St & Broadway             40.732618   \n",
              "4           446.0               W 24 St & 7 Ave             40.744876   \n",
              "\n",
              "   end_station_longitude   bikeid    usertype  birth_year  gender  \n",
              "0             -73.986022  21566.0  Subscriber     -1992.0     1.0  \n",
              "1             -73.963198  14670.0  Subscriber     -1991.0     2.0  \n",
              "2             -73.973736  21494.0  Subscriber      1979.0     1.0  \n",
              "3             -73.991580  22901.0  Subscriber      1984.0     1.0  \n",
              "4             -73.995299  21254.0  Subscriber      1981.0     1.0  "
            ],
            "text/html": [
              "\n",
              "\n",
              "  <div id=\"df-5e7ef015-c7e4-4a3c-8e35-bb62321bef7e\">\n",
              "    <div class=\"colab-df-container\">\n",
              "      <div>\n",
              "<style scoped>\n",
              "    .dataframe tbody tr th:only-of-type {\n",
              "        vertical-align: middle;\n",
              "    }\n",
              "\n",
              "    .dataframe tbody tr th {\n",
              "        vertical-align: top;\n",
              "    }\n",
              "\n",
              "    .dataframe thead th {\n",
              "        text-align: right;\n",
              "    }\n",
              "</style>\n",
              "<table border=\"1\" class=\"dataframe\">\n",
              "  <thead>\n",
              "    <tr style=\"text-align: right;\">\n",
              "      <th></th>\n",
              "      <th>tripduration</th>\n",
              "      <th>starttime</th>\n",
              "      <th>stoptime</th>\n",
              "      <th>start_station_id</th>\n",
              "      <th>start_station_name</th>\n",
              "      <th>start_station_latitude</th>\n",
              "      <th>start_station_longitude</th>\n",
              "      <th>end_station_id</th>\n",
              "      <th>end_station_name</th>\n",
              "      <th>end_station_latitude</th>\n",
              "      <th>end_station_longitude</th>\n",
              "      <th>bikeid</th>\n",
              "      <th>usertype</th>\n",
              "      <th>birth_year</th>\n",
              "      <th>gender</th>\n",
              "    </tr>\n",
              "  </thead>\n",
              "  <tbody>\n",
              "    <tr>\n",
              "      <th>0</th>\n",
              "      <td>283.0</td>\n",
              "      <td>3/31/2016 09:15:31</td>\n",
              "      <td>3/31/2016 09:20:14</td>\n",
              "      <td>382.0</td>\n",
              "      <td>University Pl &amp; E 14 St</td>\n",
              "      <td>40.734927</td>\n",
              "      <td>-73.992005</td>\n",
              "      <td>491.0</td>\n",
              "      <td>E 24 St &amp; Park Ave S</td>\n",
              "      <td>40.740964</td>\n",
              "      <td>-73.986022</td>\n",
              "      <td>21566.0</td>\n",
              "      <td>Subscriber</td>\n",
              "      <td>-1992.0</td>\n",
              "      <td>1.0</td>\n",
              "    </tr>\n",
              "    <tr>\n",
              "      <th>1</th>\n",
              "      <td>392.0</td>\n",
              "      <td>9/5/2016 16:43:30</td>\n",
              "      <td>9/5/2016 16:50:03</td>\n",
              "      <td>3109.0</td>\n",
              "      <td>Banker St &amp; Meserole Ave</td>\n",
              "      <td>40.726060</td>\n",
              "      <td>-73.956210</td>\n",
              "      <td>2002.0</td>\n",
              "      <td>Wythe Ave &amp; Metropolitan Ave</td>\n",
              "      <td>40.716887</td>\n",
              "      <td>-73.963198</td>\n",
              "      <td>14670.0</td>\n",
              "      <td>Subscriber</td>\n",
              "      <td>-1991.0</td>\n",
              "      <td>2.0</td>\n",
              "    </tr>\n",
              "    <tr>\n",
              "      <th>2</th>\n",
              "      <td>705.0</td>\n",
              "      <td>4/17/2016 13:16:39</td>\n",
              "      <td>4/17/2016 13:28:25</td>\n",
              "      <td>354.0</td>\n",
              "      <td>Emerson Pl &amp; Myrtle Ave</td>\n",
              "      <td>40.693631</td>\n",
              "      <td>-73.962236</td>\n",
              "      <td>242.0</td>\n",
              "      <td>Carlton Ave &amp; Flushing Ave</td>\n",
              "      <td>40.697787</td>\n",
              "      <td>-73.973736</td>\n",
              "      <td>21494.0</td>\n",
              "      <td>Subscriber</td>\n",
              "      <td>1979.0</td>\n",
              "      <td>1.0</td>\n",
              "    </tr>\n",
              "    <tr>\n",
              "      <th>3</th>\n",
              "      <td>535.0</td>\n",
              "      <td>5/2/2016 17:59:46</td>\n",
              "      <td>5/2/2016 18:08:42</td>\n",
              "      <td>517.0</td>\n",
              "      <td>Pershing Square South</td>\n",
              "      <td>40.751581</td>\n",
              "      <td>-73.977910</td>\n",
              "      <td>357.0</td>\n",
              "      <td>E 11 St &amp; Broadway</td>\n",
              "      <td>40.732618</td>\n",
              "      <td>-73.991580</td>\n",
              "      <td>22901.0</td>\n",
              "      <td>Subscriber</td>\n",
              "      <td>1984.0</td>\n",
              "      <td>1.0</td>\n",
              "    </tr>\n",
              "    <tr>\n",
              "      <th>4</th>\n",
              "      <td>286.0</td>\n",
              "      <td>2/6/2016 18:27:29</td>\n",
              "      <td>2/6/2016 18:32:16</td>\n",
              "      <td>490.0</td>\n",
              "      <td>8 Ave &amp; W 33 St</td>\n",
              "      <td>40.751551</td>\n",
              "      <td>-73.993934</td>\n",
              "      <td>446.0</td>\n",
              "      <td>W 24 St &amp; 7 Ave</td>\n",
              "      <td>40.744876</td>\n",
              "      <td>-73.995299</td>\n",
              "      <td>21254.0</td>\n",
              "      <td>Subscriber</td>\n",
              "      <td>1981.0</td>\n",
              "      <td>1.0</td>\n",
              "    </tr>\n",
              "  </tbody>\n",
              "</table>\n",
              "</div>\n",
              "      <button class=\"colab-df-convert\" onclick=\"convertToInteractive('df-5e7ef015-c7e4-4a3c-8e35-bb62321bef7e')\"\n",
              "              title=\"Convert this dataframe to an interactive table.\"\n",
              "              style=\"display:none;\">\n",
              "\n",
              "  <svg xmlns=\"http://www.w3.org/2000/svg\" height=\"24px\"viewBox=\"0 0 24 24\"\n",
              "       width=\"24px\">\n",
              "    <path d=\"M0 0h24v24H0V0z\" fill=\"none\"/>\n",
              "    <path d=\"M18.56 5.44l.94 2.06.94-2.06 2.06-.94-2.06-.94-.94-2.06-.94 2.06-2.06.94zm-11 1L8.5 8.5l.94-2.06 2.06-.94-2.06-.94L8.5 2.5l-.94 2.06-2.06.94zm10 10l.94 2.06.94-2.06 2.06-.94-2.06-.94-.94-2.06-.94 2.06-2.06.94z\"/><path d=\"M17.41 7.96l-1.37-1.37c-.4-.4-.92-.59-1.43-.59-.52 0-1.04.2-1.43.59L10.3 9.45l-7.72 7.72c-.78.78-.78 2.05 0 2.83L4 21.41c.39.39.9.59 1.41.59.51 0 1.02-.2 1.41-.59l7.78-7.78 2.81-2.81c.8-.78.8-2.07 0-2.86zM5.41 20L4 18.59l7.72-7.72 1.47 1.35L5.41 20z\"/>\n",
              "  </svg>\n",
              "      </button>\n",
              "\n",
              "\n",
              "\n",
              "    <div id=\"df-0cae4133-ff62-4b59-9bb6-1c88cf2e725b\">\n",
              "      <button class=\"colab-df-quickchart\" onclick=\"quickchart('df-0cae4133-ff62-4b59-9bb6-1c88cf2e725b')\"\n",
              "              title=\"Suggest charts.\"\n",
              "              style=\"display:none;\">\n",
              "\n",
              "<svg xmlns=\"http://www.w3.org/2000/svg\" height=\"24px\"viewBox=\"0 0 24 24\"\n",
              "     width=\"24px\">\n",
              "    <g>\n",
              "        <path d=\"M19 3H5c-1.1 0-2 .9-2 2v14c0 1.1.9 2 2 2h14c1.1 0 2-.9 2-2V5c0-1.1-.9-2-2-2zM9 17H7v-7h2v7zm4 0h-2V7h2v10zm4 0h-2v-4h2v4z\"/>\n",
              "    </g>\n",
              "</svg>\n",
              "      </button>\n",
              "    </div>\n",
              "\n",
              "<style>\n",
              "  .colab-df-quickchart {\n",
              "    background-color: #E8F0FE;\n",
              "    border: none;\n",
              "    border-radius: 50%;\n",
              "    cursor: pointer;\n",
              "    display: none;\n",
              "    fill: #1967D2;\n",
              "    height: 32px;\n",
              "    padding: 0 0 0 0;\n",
              "    width: 32px;\n",
              "  }\n",
              "\n",
              "  .colab-df-quickchart:hover {\n",
              "    background-color: #E2EBFA;\n",
              "    box-shadow: 0px 1px 2px rgba(60, 64, 67, 0.3), 0px 1px 3px 1px rgba(60, 64, 67, 0.15);\n",
              "    fill: #174EA6;\n",
              "  }\n",
              "\n",
              "  [theme=dark] .colab-df-quickchart {\n",
              "    background-color: #3B4455;\n",
              "    fill: #D2E3FC;\n",
              "  }\n",
              "\n",
              "  [theme=dark] .colab-df-quickchart:hover {\n",
              "    background-color: #434B5C;\n",
              "    box-shadow: 0px 1px 3px 1px rgba(0, 0, 0, 0.15);\n",
              "    filter: drop-shadow(0px 1px 2px rgba(0, 0, 0, 0.3));\n",
              "    fill: #FFFFFF;\n",
              "  }\n",
              "</style>\n",
              "\n",
              "    <script>\n",
              "      async function quickchart(key) {\n",
              "        const containerElement = document.querySelector('#' + key);\n",
              "        const charts = await google.colab.kernel.invokeFunction(\n",
              "            'suggestCharts', [key], {});\n",
              "      }\n",
              "    </script>\n",
              "\n",
              "      <script>\n",
              "\n",
              "function displayQuickchartButton(domScope) {\n",
              "  let quickchartButtonEl =\n",
              "    domScope.querySelector('#df-0cae4133-ff62-4b59-9bb6-1c88cf2e725b button.colab-df-quickchart');\n",
              "  quickchartButtonEl.style.display =\n",
              "    google.colab.kernel.accessAllowed ? 'block' : 'none';\n",
              "}\n",
              "\n",
              "        displayQuickchartButton(document);\n",
              "      </script>\n",
              "      <style>\n",
              "    .colab-df-container {\n",
              "      display:flex;\n",
              "      flex-wrap:wrap;\n",
              "      gap: 12px;\n",
              "    }\n",
              "\n",
              "    .colab-df-convert {\n",
              "      background-color: #E8F0FE;\n",
              "      border: none;\n",
              "      border-radius: 50%;\n",
              "      cursor: pointer;\n",
              "      display: none;\n",
              "      fill: #1967D2;\n",
              "      height: 32px;\n",
              "      padding: 0 0 0 0;\n",
              "      width: 32px;\n",
              "    }\n",
              "\n",
              "    .colab-df-convert:hover {\n",
              "      background-color: #E2EBFA;\n",
              "      box-shadow: 0px 1px 2px rgba(60, 64, 67, 0.3), 0px 1px 3px 1px rgba(60, 64, 67, 0.15);\n",
              "      fill: #174EA6;\n",
              "    }\n",
              "\n",
              "    [theme=dark] .colab-df-convert {\n",
              "      background-color: #3B4455;\n",
              "      fill: #D2E3FC;\n",
              "    }\n",
              "\n",
              "    [theme=dark] .colab-df-convert:hover {\n",
              "      background-color: #434B5C;\n",
              "      box-shadow: 0px 1px 3px 1px rgba(0, 0, 0, 0.15);\n",
              "      filter: drop-shadow(0px 1px 2px rgba(0, 0, 0, 0.3));\n",
              "      fill: #FFFFFF;\n",
              "    }\n",
              "  </style>\n",
              "\n",
              "      <script>\n",
              "        const buttonEl =\n",
              "          document.querySelector('#df-5e7ef015-c7e4-4a3c-8e35-bb62321bef7e button.colab-df-convert');\n",
              "        buttonEl.style.display =\n",
              "          google.colab.kernel.accessAllowed ? 'block' : 'none';\n",
              "\n",
              "        async function convertToInteractive(key) {\n",
              "          const element = document.querySelector('#df-5e7ef015-c7e4-4a3c-8e35-bb62321bef7e');\n",
              "          const dataTable =\n",
              "            await google.colab.kernel.invokeFunction('convertToInteractive',\n",
              "                                                     [key], {});\n",
              "          if (!dataTable) return;\n",
              "\n",
              "          const docLinkHtml = 'Like what you see? Visit the ' +\n",
              "            '<a target=\"_blank\" href=https://colab.research.google.com/notebooks/data_table.ipynb>data table notebook</a>'\n",
              "            + ' to learn more about interactive tables.';\n",
              "          element.innerHTML = '';\n",
              "          dataTable['output_type'] = 'display_data';\n",
              "          await google.colab.output.renderOutput(dataTable, element);\n",
              "          const docLink = document.createElement('div');\n",
              "          docLink.innerHTML = docLinkHtml;\n",
              "          element.appendChild(docLink);\n",
              "        }\n",
              "      </script>\n",
              "    </div>\n",
              "  </div>\n"
            ]
          },
          "metadata": {},
          "execution_count": 46
        }
      ]
    },
    {
      "cell_type": "markdown",
      "source": [
        "### Podemos verificar que na coluna 'birth_year' existem alguns valores negativos o que não faz muito sentido. Devemos ter valores positivos."
      ],
      "metadata": {
        "id": "bhYo0GWRhtl1"
      }
    },
    {
      "cell_type": "code",
      "source": [
        "df['birth_year']"
      ],
      "metadata": {
        "colab": {
          "base_uri": "https://localhost:8080/"
        },
        "id": "03ihRZN1h-r0",
        "outputId": "262ae2a2-ec77-4476-c438-e01c1f47cdcf"
      },
      "execution_count": 47,
      "outputs": [
        {
          "output_type": "execute_result",
          "data": {
            "text/plain": [
              "0         -1992.0\n",
              "1         -1991.0\n",
              "2          1979.0\n",
              "3          1984.0\n",
              "4          1981.0\n",
              "            ...  \n",
              "3999995    1962.0\n",
              "3999996    1960.0\n",
              "3999997    1967.0\n",
              "3999998    1985.0\n",
              "3999999    1989.0\n",
              "Name: birth_year, Length: 4000000, dtype: float64"
            ]
          },
          "metadata": {},
          "execution_count": 47
        }
      ]
    },
    {
      "cell_type": "code",
      "source": [
        "df ['birth_year'] = df['birth_year'].abs()    # Tomando o modulo dos valores de birth_year\n",
        "df['birth_year']"
      ],
      "metadata": {
        "id": "gC4Mnq8WkHmu",
        "colab": {
          "base_uri": "https://localhost:8080/"
        },
        "outputId": "6a899256-efab-428a-abb2-e4fc06b65739"
      },
      "execution_count": 48,
      "outputs": [
        {
          "output_type": "execute_result",
          "data": {
            "text/plain": [
              "0          1992.0\n",
              "1          1991.0\n",
              "2          1979.0\n",
              "3          1984.0\n",
              "4          1981.0\n",
              "            ...  \n",
              "3999995    1962.0\n",
              "3999996    1960.0\n",
              "3999997    1967.0\n",
              "3999998    1985.0\n",
              "3999999    1989.0\n",
              "Name: birth_year, Length: 4000000, dtype: float64"
            ]
          },
          "metadata": {},
          "execution_count": 48
        }
      ]
    },
    {
      "cell_type": "markdown",
      "source": [
        "### Verificando valores NaN values e linhas duplicadas"
      ],
      "metadata": {
        "id": "Y-uB0GdOhQO_"
      }
    },
    {
      "cell_type": "code",
      "source": [
        "df.shape"
      ],
      "metadata": {
        "colab": {
          "base_uri": "https://localhost:8080/"
        },
        "id": "T9Mwuxj4ij9r",
        "outputId": "47462df9-b640-4b7f-8137-2740568719fc"
      },
      "execution_count": 49,
      "outputs": [
        {
          "output_type": "execute_result",
          "data": {
            "text/plain": [
              "(4000000, 15)"
            ]
          },
          "metadata": {},
          "execution_count": 49
        }
      ]
    },
    {
      "cell_type": "code",
      "source": [
        "df.isna().sum()   # Mostra o total de valores NaN em cada coluna"
      ],
      "metadata": {
        "id": "xCHsDVTukHin",
        "colab": {
          "base_uri": "https://localhost:8080/"
        },
        "outputId": "a5197452-d5f3-409a-d29d-d0ccbc7ec524"
      },
      "execution_count": 50,
      "outputs": [
        {
          "output_type": "execute_result",
          "data": {
            "text/plain": [
              "tripduration                    0\n",
              "starttime                       0\n",
              "stoptime                        0\n",
              "start_station_id              151\n",
              "start_station_name            151\n",
              "start_station_latitude          0\n",
              "start_station_longitude         0\n",
              "end_station_id                151\n",
              "end_station_name              151\n",
              "end_station_latitude            0\n",
              "end_station_longitude           0\n",
              "bikeid                          0\n",
              "usertype                     3566\n",
              "birth_year                 214167\n",
              "gender                          0\n",
              "dtype: int64"
            ]
          },
          "metadata": {},
          "execution_count": 50
        }
      ]
    },
    {
      "cell_type": "code",
      "source": [
        "df = df.dropna(how='all', inplace=False)  # Remove linhas onde não há nenhuma informação"
      ],
      "metadata": {
        "id": "NLEyHYGui7cf"
      },
      "execution_count": 51,
      "outputs": []
    },
    {
      "cell_type": "code",
      "source": [
        "df.isna().sum() # Mostra onde ainda temos valores ausentes"
      ],
      "metadata": {
        "colab": {
          "base_uri": "https://localhost:8080/"
        },
        "id": "04iuUovFgy3g",
        "outputId": "3ab1a97b-3482-472d-fdb8-7515c88ae6af"
      },
      "execution_count": 52,
      "outputs": [
        {
          "output_type": "execute_result",
          "data": {
            "text/plain": [
              "tripduration                    0\n",
              "starttime                       0\n",
              "stoptime                        0\n",
              "start_station_id              151\n",
              "start_station_name            151\n",
              "start_station_latitude          0\n",
              "start_station_longitude         0\n",
              "end_station_id                151\n",
              "end_station_name              151\n",
              "end_station_latitude            0\n",
              "end_station_longitude           0\n",
              "bikeid                          0\n",
              "usertype                     3566\n",
              "birth_year                 214167\n",
              "gender                          0\n",
              "dtype: int64"
            ]
          },
          "metadata": {},
          "execution_count": 52
        }
      ]
    },
    {
      "cell_type": "markdown",
      "source": [
        "### Verificando datas"
      ],
      "metadata": {
        "id": "f6S6JlqXkCEN"
      }
    },
    {
      "cell_type": "code",
      "source": [
        "# Passando valores das datas de float para tipo date\n",
        "df['starttime'] = pd.to_datetime(df['starttime'])\n",
        "df['stoptime'] = pd.to_datetime(df['stoptime'])\n",
        "\n",
        "# Alterando coluna de duração de viagem para minutos\n",
        "df['tripduration'] = df['tripduration']/60.\n",
        "df = df.rename(columns={'tripduration':'tripduration_min'})"
      ],
      "metadata": {
        "id": "RvqHNJWTj6sA"
      },
      "execution_count": 53,
      "outputs": []
    },
    {
      "cell_type": "code",
      "source": [
        "df.shape"
      ],
      "metadata": {
        "colab": {
          "base_uri": "https://localhost:8080/"
        },
        "id": "xK2SsfzPwSva",
        "outputId": "36cc3a49-214b-4f09-e3e9-0703627f99cd"
      },
      "execution_count": 54,
      "outputs": [
        {
          "output_type": "execute_result",
          "data": {
            "text/plain": [
              "(4000000, 15)"
            ]
          },
          "metadata": {},
          "execution_count": 54
        }
      ]
    },
    {
      "cell_type": "code",
      "source": [
        "# Podemos ver quantos são homens(1), mulheres(2) e desconhecidos(0)\n",
        "df['gender'].value_counts()"
      ],
      "metadata": {
        "colab": {
          "base_uri": "https://localhost:8080/"
        },
        "id": "YDo7VIgxj6lK",
        "outputId": "d918b52f-52da-445d-ab25-f105e93c884e"
      },
      "execution_count": 55,
      "outputs": [
        {
          "output_type": "execute_result",
          "data": {
            "text/plain": [
              "1.0    2704082\n",
              "2.0     914750\n",
              "0.0     381168\n",
              "Name: gender, dtype: int64"
            ]
          },
          "metadata": {},
          "execution_count": 55
        }
      ]
    },
    {
      "cell_type": "code",
      "source": [
        "import numpy as np\n",
        "\n",
        "birth_y = np.array([sorted(df['birth_year'].unique())])"
      ],
      "metadata": {
        "id": "zfypYyVzzfNu"
      },
      "execution_count": 17,
      "outputs": []
    },
    {
      "cell_type": "code",
      "source": [],
      "metadata": {
        "id": "v1qbZrLkF_hP"
      },
      "execution_count": 17,
      "outputs": []
    },
    {
      "cell_type": "code",
      "source": [
        "df.plot(kind=\"scatter\", y=\"tripduration_min\", x=\"birth_year\",\n",
        " alpha=0.4)\n",
        "plt.show()"
      ],
      "metadata": {
        "id": "dyZQoc7-901h",
        "colab": {
          "base_uri": "https://localhost:8080/",
          "height": 450
        },
        "outputId": "7dcacfb6-fcaf-4e30-d50b-3f7d37b280a2"
      },
      "execution_count": 56,
      "outputs": [
        {
          "output_type": "display_data",
          "data": {
            "text/plain": [
              "<Figure size 640x480 with 1 Axes>"
            ],
            "image/png": "[encoded data removed]"
          },
          "metadata": {}
        }
      ]
    },
    {
      "cell_type": "code",
      "source": [],
      "metadata": {
        "id": "w9tHi5WkZUEJ"
      },
      "execution_count": null,
      "outputs": []
    },
    {
      "cell_type": "code",
      "source": [
        "df.loc[df['start_station_name']==\"Hs Don't Use\"].head(10)"
      ],
      "metadata": {
        "colab": {
          "base_uri": "https://localhost:8080/",
          "height": 510
        },
        "id": "sfGErKqoQQw5",
        "outputId": "33322d5e-1b3d-4fa0-9c47-8b6b68194470"
      },
      "execution_count": 57,
      "outputs": [
        {
          "output_type": "execute_result",
          "data": {
            "text/plain": [
              "         tripduration_min           starttime            stoptime  \\\n",
              "804164           1.633333 2017-10-02 08:04:46 2017-10-02 08:06:25   \n",
              "1151036          4.683333 2017-10-01 18:57:39 2017-10-01 19:02:21   \n",
              "1163859          5.300000 2017-10-01 21:51:39 2017-10-01 21:56:58   \n",
              "1200757          1.750000 2017-10-02 07:43:20 2017-10-02 07:45:05   \n",
              "1249985          4.633333 2017-10-01 17:04:14 2017-10-01 17:08:52   \n",
              "1456317          5.716667 2017-10-01 10:19:17 2017-10-01 10:25:00   \n",
              "\n",
              "         start_station_id start_station_name  start_station_latitude  \\\n",
              "804164             3197.0       Hs Don't Use               40.719252   \n",
              "1151036            3197.0       Hs Don't Use               40.719252   \n",
              "1163859            3197.0       Hs Don't Use               40.719252   \n",
              "1200757            3197.0       Hs Don't Use               40.719252   \n",
              "1249985            3197.0       Hs Don't Use               40.719252   \n",
              "1456317            3197.0       Hs Don't Use               40.719252   \n",
              "\n",
              "         start_station_longitude  end_station_id  end_station_name  \\\n",
              "804164                -74.034234          3183.0    Exchange Place   \n",
              "1151036               -74.034234          3480.0      WS Don't Use   \n",
              "1163859               -74.034234          3186.0     Grove St PATH   \n",
              "1200757               -74.034234          3183.0    Exchange Place   \n",
              "1249985               -74.034234          3481.0           York St   \n",
              "1456317               -74.034234          3214.0  Essex Light Rail   \n",
              "\n",
              "         end_station_latitude  end_station_longitude   bikeid    usertype  \\\n",
              "804164              40.716247             -74.033459  26209.0  Subscriber   \n",
              "1151036              0.000000               0.000000  31815.0  Subscriber   \n",
              "1163859             40.719586             -74.043117  26224.0  Subscriber   \n",
              "1200757             40.716247             -74.033459  31867.0  Subscriber   \n",
              "1249985             40.716490             -74.041050  29579.0  Subscriber   \n",
              "1456317             40.712774             -74.036486  31824.0  Subscriber   \n",
              "\n",
              "         birth_year  gender  \n",
              "804164       1984.0     1.0  \n",
              "1151036      1984.0     2.0  \n",
              "1163859      1988.0     2.0  \n",
              "1200757         NaN     0.0  \n",
              "1249985      1990.0     1.0  \n",
              "1456317      1985.0     2.0  "
            ],
            "text/html": [
              "\n",
              "\n",
              "  <div id=\"df-58c63022-0455-45ae-ba64-e54d607badd0\">\n",
              "    <div class=\"colab-df-container\">\n",
              "      <div>\n",
              "<style scoped>\n",
              "    .dataframe tbody tr th:only-of-type {\n",
              "        vertical-align: middle;\n",
              "    }\n",
              "\n",
              "    .dataframe tbody tr th {\n",
              "        vertical-align: top;\n",
              "    }\n",
              "\n",
              "    .dataframe thead th {\n",
              "        text-align: right;\n",
              "    }\n",
              "</style>\n",
              "<table border=\"1\" class=\"dataframe\">\n",
              "  <thead>\n",
              "    <tr style=\"text-align: right;\">\n",
              "      <th></th>\n",
              "      <th>tripduration_min</th>\n",
              "      <th>starttime</th>\n",
              "      <th>stoptime</th>\n",
              "      <th>start_station_id</th>\n",
              "      <th>start_station_name</th>\n",
              "      <th>start_station_latitude</th>\n",
              "      <th>start_station_longitude</th>\n",
              "      <th>end_station_id</th>\n",
              "      <th>end_station_name</th>\n",
              "      <th>end_station_latitude</th>\n",
              "      <th>end_station_longitude</th>\n",
              "      <th>bikeid</th>\n",
              "      <th>usertype</th>\n",
              "      <th>birth_year</th>\n",
              "      <th>gender</th>\n",
              "    </tr>\n",
              "  </thead>\n",
              "  <tbody>\n",
              "    <tr>\n",
              "      <th>804164</th>\n",
              "      <td>1.633333</td>\n",
              "      <td>2017-10-02 08:04:46</td>\n",
              "      <td>2017-10-02 08:06:25</td>\n",
              "      <td>3197.0</td>\n",
              "      <td>Hs Don't Use</td>\n",
              "      <td>40.719252</td>\n",
              "      <td>-74.034234</td>\n",
              "      <td>3183.0</td>\n",
              "      <td>Exchange Place</td>\n",
              "      <td>40.716247</td>\n",
              "      <td>-74.033459</td>\n",
              "      <td>26209.0</td>\n",
              "      <td>Subscriber</td>\n",
              "      <td>1984.0</td>\n",
              "      <td>1.0</td>\n",
              "    </tr>\n",
              "    <tr>\n",
              "      <th>1151036</th>\n",
              "      <td>4.683333</td>\n",
              "      <td>2017-10-01 18:57:39</td>\n",
              "      <td>2017-10-01 19:02:21</td>\n",
              "      <td>3197.0</td>\n",
              "      <td>Hs Don't Use</td>\n",
              "      <td>40.719252</td>\n",
              "      <td>-74.034234</td>\n",
              "      <td>3480.0</td>\n",
              "      <td>WS Don't Use</td>\n",
              "      <td>0.000000</td>\n",
              "      <td>0.000000</td>\n",
              "      <td>31815.0</td>\n",
              "      <td>Subscriber</td>\n",
              "      <td>1984.0</td>\n",
              "      <td>2.0</td>\n",
              "    </tr>\n",
              "    <tr>\n",
              "      <th>1163859</th>\n",
              "      <td>5.300000</td>\n",
              "      <td>2017-10-01 21:51:39</td>\n",
              "      <td>2017-10-01 21:56:58</td>\n",
              "      <td>3197.0</td>\n",
              "      <td>Hs Don't Use</td>\n",
              "      <td>40.719252</td>\n",
              "      <td>-74.034234</td>\n",
              "      <td>3186.0</td>\n",
              "      <td>Grove St PATH</td>\n",
              "      <td>40.719586</td>\n",
              "      <td>-74.043117</td>\n",
              "      <td>26224.0</td>\n",
              "      <td>Subscriber</td>\n",
              "      <td>1988.0</td>\n",
              "      <td>2.0</td>\n",
              "    </tr>\n",
              "    <tr>\n",
              "      <th>1200757</th>\n",
              "      <td>1.750000</td>\n",
              "      <td>2017-10-02 07:43:20</td>\n",
              "      <td>2017-10-02 07:45:05</td>\n",
              "      <td>3197.0</td>\n",
              "      <td>Hs Don't Use</td>\n",
              "      <td>40.719252</td>\n",
              "      <td>-74.034234</td>\n",
              "      <td>3183.0</td>\n",
              "      <td>Exchange Place</td>\n",
              "      <td>40.716247</td>\n",
              "      <td>-74.033459</td>\n",
              "      <td>31867.0</td>\n",
              "      <td>Subscriber</td>\n",
              "      <td>NaN</td>\n",
              "      <td>0.0</td>\n",
              "    </tr>\n",
              "    <tr>\n",
              "      <th>1249985</th>\n",
              "      <td>4.633333</td>\n",
              "      <td>2017-10-01 17:04:14</td>\n",
              "      <td>2017-10-01 17:08:52</td>\n",
              "      <td>3197.0</td>\n",
              "      <td>Hs Don't Use</td>\n",
              "      <td>40.719252</td>\n",
              "      <td>-74.034234</td>\n",
              "      <td>3481.0</td>\n",
              "      <td>York St</td>\n",
              "      <td>40.716490</td>\n",
              "      <td>-74.041050</td>\n",
              "      <td>29579.0</td>\n",
              "      <td>Subscriber</td>\n",
              "      <td>1990.0</td>\n",
              "      <td>1.0</td>\n",
              "    </tr>\n",
              "    <tr>\n",
              "      <th>1456317</th>\n",
              "      <td>5.716667</td>\n",
              "      <td>2017-10-01 10:19:17</td>\n",
              "      <td>2017-10-01 10:25:00</td>\n",
              "      <td>3197.0</td>\n",
              "      <td>Hs Don't Use</td>\n",
              "      <td>40.719252</td>\n",
              "      <td>-74.034234</td>\n",
              "      <td>3214.0</td>\n",
              "      <td>Essex Light Rail</td>\n",
              "      <td>40.712774</td>\n",
              "      <td>-74.036486</td>\n",
              "      <td>31824.0</td>\n",
              "      <td>Subscriber</td>\n",
              "      <td>1985.0</td>\n",
              "      <td>2.0</td>\n",
              "    </tr>\n",
              "  </tbody>\n",
              "</table>\n",
              "</div>\n",
              "      <button class=\"colab-df-convert\" onclick=\"convertToInteractive('df-58c63022-0455-45ae-ba64-e54d607badd0')\"\n",
              "              title=\"Convert this dataframe to an interactive table.\"\n",
              "              style=\"display:none;\">\n",
              "\n",
              "  <svg xmlns=\"http://www.w3.org/2000/svg\" height=\"24px\"viewBox=\"0 0 24 24\"\n",
              "       width=\"24px\">\n",
              "    <path d=\"M0 0h24v24H0V0z\" fill=\"none\"/>\n",
              "    <path d=\"M18.56 5.44l.94 2.06.94-2.06 2.06-.94-2.06-.94-.94-2.06-.94 2.06-2.06.94zm-11 1L8.5 8.5l.94-2.06 2.06-.94-2.06-.94L8.5 2.5l-.94 2.06-2.06.94zm10 10l.94 2.06.94-2.06 2.06-.94-2.06-.94-.94-2.06-.94 2.06-2.06.94z\"/><path d=\"M17.41 7.96l-1.37-1.37c-.4-.4-.92-.59-1.43-.59-.52 0-1.04.2-1.43.59L10.3 9.45l-7.72 7.72c-.78.78-.78 2.05 0 2.83L4 21.41c.39.39.9.59 1.41.59.51 0 1.02-.2 1.41-.59l7.78-7.78 2.81-2.81c.8-.78.8-2.07 0-2.86zM5.41 20L4 18.59l7.72-7.72 1.47 1.35L5.41 20z\"/>\n",
              "  </svg>\n",
              "      </button>\n",
              "\n",
              "\n",
              "\n",
              "    <div id=\"df-d037294e-b69a-497e-8a4a-2d802053bc69\">\n",
              "      <button class=\"colab-df-quickchart\" onclick=\"quickchart('df-d037294e-b69a-497e-8a4a-2d802053bc69')\"\n",
              "              title=\"Suggest charts.\"\n",
              "              style=\"display:none;\">\n",
              "\n",
              "<svg xmlns=\"http://www.w3.org/2000/svg\" height=\"24px\"viewBox=\"0 0 24 24\"\n",
              "     width=\"24px\">\n",
              "    <g>\n",
              "        <path d=\"M19 3H5c-1.1 0-2 .9-2 2v14c0 1.1.9 2 2 2h14c1.1 0 2-.9 2-2V5c0-1.1-.9-2-2-2zM9 17H7v-7h2v7zm4 0h-2V7h2v10zm4 0h-2v-4h2v4z\"/>\n",
              "    </g>\n",
              "</svg>\n",
              "      </button>\n",
              "    </div>\n",
              "\n",
              "<style>\n",
              "  .colab-df-quickchart {\n",
              "    background-color: #E8F0FE;\n",
              "    border: none;\n",
              "    border-radius: 50%;\n",
              "    cursor: pointer;\n",
              "    display: none;\n",
              "    fill: #1967D2;\n",
              "    height: 32px;\n",
              "    padding: 0 0 0 0;\n",
              "    width: 32px;\n",
              "  }\n",
              "\n",
              "  .colab-df-quickchart:hover {\n",
              "    background-color: #E2EBFA;\n",
              "    box-shadow: 0px 1px 2px rgba(60, 64, 67, 0.3), 0px 1px 3px 1px rgba(60, 64, 67, 0.15);\n",
              "    fill: #174EA6;\n",
              "  }\n",
              "\n",
              "  [theme=dark] .colab-df-quickchart {\n",
              "    background-color: #3B4455;\n",
              "    fill: #D2E3FC;\n",
              "  }\n",
              "\n",
              "  [theme=dark] .colab-df-quickchart:hover {\n",
              "    background-color: #434B5C;\n",
              "    box-shadow: 0px 1px 3px 1px rgba(0, 0, 0, 0.15);\n",
              "    filter: drop-shadow(0px 1px 2px rgba(0, 0, 0, 0.3));\n",
              "    fill: #FFFFFF;\n",
              "  }\n",
              "</style>\n",
              "\n",
              "    <script>\n",
              "      async function quickchart(key) {\n",
              "        const containerElement = document.querySelector('#' + key);\n",
              "        const charts = await google.colab.kernel.invokeFunction(\n",
              "            'suggestCharts', [key], {});\n",
              "      }\n",
              "    </script>\n",
              "\n",
              "      <script>\n",
              "\n",
              "function displayQuickchartButton(domScope) {\n",
              "  let quickchartButtonEl =\n",
              "    domScope.querySelector('#df-d037294e-b69a-497e-8a4a-2d802053bc69 button.colab-df-quickchart');\n",
              "  quickchartButtonEl.style.display =\n",
              "    google.colab.kernel.accessAllowed ? 'block' : 'none';\n",
              "}\n",
              "\n",
              "        displayQuickchartButton(document);\n",
              "      </script>\n",
              "      <style>\n",
              "    .colab-df-container {\n",
              "      display:flex;\n",
              "      flex-wrap:wrap;\n",
              "      gap: 12px;\n",
              "    }\n",
              "\n",
              "    .colab-df-convert {\n",
              "      background-color: #E8F0FE;\n",
              "      border: none;\n",
              "      border-radius: 50%;\n",
              "      cursor: pointer;\n",
              "      display: none;\n",
              "      fill: #1967D2;\n",
              "      height: 32px;\n",
              "      padding: 0 0 0 0;\n",
              "      width: 32px;\n",
              "    }\n",
              "\n",
              "    .colab-df-convert:hover {\n",
              "      background-color: #E2EBFA;\n",
              "      box-shadow: 0px 1px 2px rgba(60, 64, 67, 0.3), 0px 1px 3px 1px rgba(60, 64, 67, 0.15);\n",
              "      fill: #174EA6;\n",
              "    }\n",
              "\n",
              "    [theme=dark] .colab-df-convert {\n",
              "      background-color: #3B4455;\n",
              "      fill: #D2E3FC;\n",
              "    }\n",
              "\n",
              "    [theme=dark] .colab-df-convert:hover {\n",
              "      background-color: #434B5C;\n",
              "      box-shadow: 0px 1px 3px 1px rgba(0, 0, 0, 0.15);\n",
              "      filter: drop-shadow(0px 1px 2px rgba(0, 0, 0, 0.3));\n",
              "      fill: #FFFFFF;\n",
              "    }\n",
              "  </style>\n",
              "\n",
              "      <script>\n",
              "        const buttonEl =\n",
              "          document.querySelector('#df-58c63022-0455-45ae-ba64-e54d607badd0 button.colab-df-convert');\n",
              "        buttonEl.style.display =\n",
              "          google.colab.kernel.accessAllowed ? 'block' : 'none';\n",
              "\n",
              "        async function convertToInteractive(key) {\n",
              "          const element = document.querySelector('#df-58c63022-0455-45ae-ba64-e54d607badd0');\n",
              "          const dataTable =\n",
              "            await google.colab.kernel.invokeFunction('convertToInteractive',\n",
              "                                                     [key], {});\n",
              "          if (!dataTable) return;\n",
              "\n",
              "          const docLinkHtml = 'Like what you see? Visit the ' +\n",
              "            '<a target=\"_blank\" href=https://colab.research.google.com/notebooks/data_table.ipynb>data table notebook</a>'\n",
              "            + ' to learn more about interactive tables.';\n",
              "          element.innerHTML = '';\n",
              "          dataTable['output_type'] = 'display_data';\n",
              "          await google.colab.output.renderOutput(dataTable, element);\n",
              "          const docLink = document.createElement('div');\n",
              "          docLink.innerHTML = docLinkHtml;\n",
              "          element.appendChild(docLink);\n",
              "        }\n",
              "      </script>\n",
              "    </div>\n",
              "  </div>\n"
            ]
          },
          "metadata": {},
          "execution_count": 57
        }
      ]
    },
    {
      "cell_type": "code",
      "source": [
        "import plotly.express as px\n",
        "\n",
        "# Plot do mapa com os pontos das estações\n",
        "fig = px.scatter_mapbox(\n",
        "    df,\n",
        "    lat='start_station_latitude',\n",
        "    lon='start_station_longitude',\n",
        "    hover_name='start_station_name',\n",
        "    zoom=20\n",
        ")\n",
        "\n",
        "fig.update_layout(mapbox_style='open-street-map')\n",
        "fig.show()\n"
      ],
      "metadata": {
        "id": "kE-byHSDMWhc"
      },
      "execution_count": 58,
      "outputs": []
    },
    {
      "cell_type": "code",
      "source": [
        "df.isna().sum() # Mostra onde ainda temos valores ausentes"
      ],
      "metadata": {
        "colab": {
          "base_uri": "https://localhost:8080/"
        },
        "id": "8EruvpTBOWsM",
        "outputId": "01d20f07-acaf-4d8d-a484-153e10640eea"
      },
      "execution_count": 28,
      "outputs": [
        {
          "output_type": "execute_result",
          "data": {
            "text/plain": [
              "tripduration_min                0\n",
              "starttime                       0\n",
              "stoptime                        0\n",
              "start_station_id              184\n",
              "start_station_name              0\n",
              "start_station_latitude          0\n",
              "start_station_longitude         0\n",
              "end_station_id                184\n",
              "end_station_name              184\n",
              "end_station_latitude            0\n",
              "end_station_longitude           0\n",
              "bikeid                          0\n",
              "usertype                        0\n",
              "birth_year                 232384\n",
              "gender                          0\n",
              "dtype: int64"
            ]
          },
          "metadata": {},
          "execution_count": 28
        }
      ]
    }
  ]
}